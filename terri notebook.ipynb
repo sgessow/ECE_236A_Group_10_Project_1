{
 "cells": [
  {
   "cell_type": "code",
   "execution_count": 1,
   "metadata": {},
   "outputs": [],
   "source": [
    "import numpy as np\n",
    "import matplotlib.pyplot as plt\n",
    "import cvxpy as cp"
   ]
  },
  {
   "cell_type": "code",
   "execution_count": 2,
   "metadata": {},
   "outputs": [],
   "source": [
    "# Read in the training data\n",
    "train_data = np.genfromtxt('mnist_train.csv', delimiter=',')\n",
    "# The first row is the headers so we drop it\n",
    "train_data = train_data[1:]\n",
    "\n",
    "# Set up image data and labels\n",
    "x_train = train_data[:,1:]\n",
    "y_train = train_data[:,0]"
   ]
  },
  {
   "cell_type": "code",
   "execution_count": 3,
   "metadata": {},
   "outputs": [],
   "source": [
    "# Read in the testing data\n",
    "test_data = np.genfromtxt('mnist_test.csv', delimiter=',')\n",
    "# The first row is the headers so we drop it\n",
    "test_data = test_data[1:]\n",
    "\n",
    "# Set up image data and labels\n",
    "x_test = test_data[:,1:]\n",
    "y_test = test_data[:,0]"
   ]
  },
  {
   "cell_type": "code",
   "execution_count": 4,
   "metadata": {},
   "outputs": [],
   "source": [
    "# Form the image data into 28x28 arrays since the data is originally 1D arrays\n",
    "x_train = x_train.reshape((60000, 28, 28))\n",
    "x_test = x_test.reshape((10000, 28, 28))"
   ]
  },
  {
   "cell_type": "code",
   "execution_count": 5,
   "metadata": {},
   "outputs": [],
   "source": [
    "# Filter out the digits which aren't 0 or 1\n",
    "train_mask = (y_train == 7) | (y_train == 1)\n",
    "\n",
    "x_train_masked = x_train[train_mask]\n",
    "y_train_masked = y_train[train_mask]"
   ]
  },
  {
   "cell_type": "code",
   "execution_count": 6,
   "metadata": {},
   "outputs": [],
   "source": [
    "test_mask = (y_test == 7) | (y_test == 1)\n",
    "x_test_masked = x_test[test_mask]\n",
    "y_test_masked = y_test[test_mask]"
   ]
  },
  {
   "cell_type": "code",
   "execution_count": 7,
   "metadata": {},
   "outputs": [
    {
     "data": {
      "text/plain": [
       "<matplotlib.image.AxesImage at 0x190a9468eb0>"
      ]
     },
     "execution_count": 7,
     "metadata": {},
     "output_type": "execute_result"
    },
    {
     "data": {
      "image/png": "[encoded data removed]",
      "text/plain": [
       "<Figure size 432x288 with 1 Axes>"
      ]
     },
     "metadata": {
      "needs_background": "light"
     },
     "output_type": "display_data"
    }
   ],
   "source": [
    "plt.imshow(x_train_masked[0])"
   ]
  },
  {
   "cell_type": "code",
   "execution_count": 8,
   "metadata": {},
   "outputs": [
    {
     "data": {
      "text/plain": [
       "<matplotlib.image.AxesImage at 0x19027735250>"
      ]
     },
     "execution_count": 8,
     "metadata": {},
     "output_type": "execute_result"
    },
    {
     "data": {
      "image/png": "[encoded data removed]",
      "text/plain": [
       "<Figure size 432x288 with 1 Axes>"
      ]
     },
     "metadata": {
      "needs_background": "light"
     },
     "output_type": "display_data"
    }
   ],
   "source": [
    "plt.imshow(x_train[0])"
   ]
  },
  {
   "cell_type": "code",
   "execution_count": 9,
   "metadata": {},
   "outputs": [],
   "source": [
    "import MyClassifier_10 as cl"
   ]
  },
  {
   "cell_type": "code",
   "execution_count": 10,
   "metadata": {},
   "outputs": [],
   "source": [
    "classifier = cl.MyClassifier(0, 0)"
   ]
  },
  {
   "cell_type": "code",
   "execution_count": 11,
   "metadata": {},
   "outputs": [
    {
     "name": "stdout",
     "output_type": "stream",
     "text": [
      "\n",
      "ECOS 2.0.7 - (C) embotech GmbH, Zurich Switzerland, 2012-15. Web: www.embotech.com/ECOS\n",
      "\n",
      "It     pcost       dcost      gap   pres   dres    k/t    mu     step   sigma     IR    |   BT\n",
      " 0  +2.926e+00  +8.750e+02  +5e+04  9e-01  1e+02  1e+00  2e+00    ---    ---    1  1  - |  -  - \n",
      " 1  +1.211e+01  +3.645e+02  +3e+04  2e-01  4e+01  1e+00  1e+00  0.6239  3e-01   1  1  1 |  0  0\n",
      " 2  +1.631e+01  +1.573e+02  +1e+04  5e-02  2e+01  7e-01  5e-01  0.8169  3e-01   2  1  1 |  0  0\n",
      " 3  +9.613e+00  +6.258e+01  +5e+03  1e-02  7e+00  2e-01  2e-01  0.8601  3e-01   2  1  1 |  0  0\n",
      " 4  +2.047e+00  +9.366e+00  +7e+02  2e-03  1e+00  3e-02  3e-02  0.8579  3e-03   2  1  1 |  0  0\n",
      " 5  +3.185e-02  +1.294e-01  +9e+00  2e-05  1e-02  4e-04  4e-04  0.9868  2e-04   1  1  1 |  0  0\n",
      " 6  +3.526e-04  +1.434e-03  +1e-01  3e-07  1e-04  4e-06  4e-06  0.9890  1e-04   1  1  1 |  0  0\n",
      " 7  +3.904e-06  +1.589e-05  +1e-03  3e-09  2e-06  5e-08  4e-08  0.9890  1e-04   0  1  1 |  0  0\n",
      " 8  +4.324e-08  +1.762e-07  +1e-05  3e-11  2e-08  5e-10  5e-10  0.9890  1e-04   0  0  0 |  0  0\n",
      " 9  +4.791e-10  +1.953e-09  +1e-07  4e-13  2e-10  6e-12  5e-12  0.9890  1e-04   0  0  0 |  0  0\n",
      "10  +5.317e-12  +2.166e-11  +2e-09  4e-15  2e-12  7e-14  6e-14  0.9890  1e-04   0  0  0 |  0  0\n",
      "\n",
      "OPTIMAL (within feastol=2.2e-12, reltol=7.1e+01, abstol=1.5e-09).\n",
      "Runtime: 6.219189 seconds.\n",
      "\n"
     ]
    }
   ],
   "source": [
    "classifier.train(1, 7, 1, x_train, y_train)"
   ]
  },
  {
   "cell_type": "code",
   "execution_count": 12,
   "metadata": {},
   "outputs": [],
   "source": [
    "train_classes = classifier.classify(x_train_masked)\n",
    "test_classes = classifier.classify(x_test_masked)"
   ]
  },
  {
   "cell_type": "code",
   "execution_count": 13,
   "metadata": {},
   "outputs": [],
   "source": [
    "# Compute the accuracy for the classifications\n",
    "train_accuracy = sum(abs(train_classes == y_train_masked)) / len(y_train_masked)\n",
    "test_accuracy = sum(abs(test_classes == y_test_masked)) / len(y_test_masked)"
   ]
  },
  {
   "cell_type": "code",
   "execution_count": 14,
   "metadata": {},
   "outputs": [
    {
     "data": {
      "text/plain": [
       "1.0"
      ]
     },
     "execution_count": 14,
     "metadata": {},
     "output_type": "execute_result"
    }
   ],
   "source": [
    "train_accuracy"
   ]
  },
  {
   "cell_type": "code",
   "execution_count": 15,
   "metadata": {},
   "outputs": [
    {
     "data": {
      "text/plain": [
       "0.9921405455386038"
      ]
     },
     "execution_count": 15,
     "metadata": {},
     "output_type": "execute_result"
    }
   ],
   "source": [
    "test_accuracy"
   ]
  },
  {
   "cell_type": "code",
   "execution_count": 16,
   "metadata": {},
   "outputs": [],
   "source": [
    "# A function which applies noise to the training or testing data\n",
    "def apply_error(images, p):\n",
    "    corrupt_images = images.copy()\n",
    "    for i, image in enumerate(images):\n",
    "        error = np.random.random((28, 28)) >= p\n",
    "        corrupt_image = image * error\n",
    "        corrupt_images[i] = corrupt_image\n",
    "    return corrupt_images"
   ]
  },
  {
   "cell_type": "code",
   "execution_count": 17,
   "metadata": {},
   "outputs": [],
   "source": [
    "corrupt_x_test_masked = apply_error(x_test_masked, 0.6)\n",
    "corrupt_test_classes = classifier.classify(corrupt_x_test_masked)\n",
    "corrupt_test_accuracy = sum(abs(corrupt_test_classes == y_test_masked)) / len(y_test_masked)"
   ]
  },
  {
   "cell_type": "code",
   "execution_count": 18,
   "metadata": {},
   "outputs": [
    {
     "data": {
      "text/plain": [
       "<matplotlib.image.AxesImage at 0x1904812baf0>"
      ]
     },
     "execution_count": 18,
     "metadata": {},
     "output_type": "execute_result"
    },
    {
     "data": {
      "image/png": "[encoded data removed]",
      "text/plain": [
       "<Figure size 432x288 with 1 Axes>"
      ]
     },
     "metadata": {
      "needs_background": "light"
     },
     "output_type": "display_data"
    }
   ],
   "source": [
    "plt.imshow(x_test_masked[0])"
   ]
  },
  {
   "cell_type": "code",
   "execution_count": 19,
   "metadata": {},
   "outputs": [
    {
     "data": {
      "text/plain": [
       "<matplotlib.image.AxesImage at 0x19062fff9d0>"
      ]
     },
     "execution_count": 19,
     "metadata": {},
     "output_type": "execute_result"
    },
    {
     "data": {
      "image/png": "[encoded data removed]",
      "text/plain": [
       "<Figure size 432x288 with 1 Axes>"
      ]
     },
     "metadata": {
      "needs_background": "light"
     },
     "output_type": "display_data"
    }
   ],
   "source": [
    "plt.imshow(corrupt_x_test_masked[0])"
   ]
  },
  {
   "cell_type": "code",
   "execution_count": 20,
   "metadata": {},
   "outputs": [
    {
     "data": {
      "text/plain": [
       "0.7979657882570504"
      ]
     },
     "execution_count": 20,
     "metadata": {},
     "output_type": "execute_result"
    }
   ],
   "source": [
    "corrupt_test_accuracy"
   ]
  },
  {
   "cell_type": "code",
   "execution_count": 21,
   "metadata": {},
   "outputs": [],
   "source": [
    "def apply_average(images):\n",
    "    average_images = np.empty(images.shape, dtype=float)\n",
    "\n",
    "    for i, image in enumerate(images):\n",
    "\n",
    "        image = image.reshape(784)\n",
    "        def average_image(image):\n",
    "\n",
    "            side_length = int((image.size)**(1/2))\n",
    "            new_image = np.empty(image.size, dtype=float)\n",
    "    \n",
    "            for index, x in enumerate(image):\n",
    "                right = index + 1\n",
    "                left = index - 1\n",
    "                above = index - side_length\n",
    "                below = index + side_length\n",
    "                leftup = index - (side_length+1)\n",
    "                leftdown = index + (side_length-1)\n",
    "                rightup = index - (side_length-1)\n",
    "                rightdown = index + (side_length+1)\n",
    "\n",
    "                if index % side_length == 0: #On the left boarder\n",
    "                    neighbor_arrayindex = np.array([above, below, right, rightup, rightdown])\n",
    "                elif index % side_length == (side_length-1): #On the right boarder\n",
    "                    neighbor_arrayindex = np.array([above, below, left, leftup, leftdown])\n",
    "                else:\n",
    "                    neighbor_arrayindex = np.array([above,below,right,rightup,rightdown,left,leftup,leftdown])\n",
    "\n",
    "                neighbor_arrayindex = np.array([x for x in neighbor_arrayindex if x<image.size and x>=0])\n",
    "                neighbor_count = neighbor_arrayindex.size\n",
    "                neighbors = np.array(image[neighbor_arrayindex])\n",
    "\n",
    "                new_image[index] = sum(neighbors)/neighbor_count\n",
    "\n",
    "            return new_image\n",
    "\n",
    "        average_images[i] = average_image(image).reshape(28,28)\n",
    "        \n",
    "    return average_images"
   ]
  },
  {
   "cell_type": "code",
   "execution_count": 22,
   "metadata": {},
   "outputs": [],
   "source": [
    "regen_x_test_masked = apply_average(corrupt_x_test_masked)\n",
    "regen_test_classes = classifier.classify(regen_x_test_masked)\n",
    "regen_test_accuracy = sum(abs(regen_test_classes == y_test_masked)) / len(y_test_masked)\n"
   ]
  },
  {
   "cell_type": "code",
   "execution_count": 23,
   "metadata": {},
   "outputs": [
    {
     "data": {
      "text/plain": [
       "0.955617198335645"
      ]
     },
     "execution_count": 23,
     "metadata": {},
     "output_type": "execute_result"
    }
   ],
   "source": [
    "regen_test_accuracy"
   ]
  },
  {
   "cell_type": "code",
   "execution_count": 24,
   "metadata": {},
   "outputs": [
    {
     "data": {
      "text/plain": [
       "<matplotlib.image.AxesImage at 0x190648ae970>"
      ]
     },
     "execution_count": 24,
     "metadata": {},
     "output_type": "execute_result"
    },
    {
     "data": {
      "image/png": "[encoded data removed]",
      "text/plain": [
       "<Figure size 432x288 with 1 Axes>"
      ]
     },
     "metadata": {
      "needs_background": "light"
     },
     "output_type": "display_data"
    }
   ],
   "source": [
    "plt.imshow(regen_x_test_masked[0])"
   ]
  },
  {
   "cell_type": "code",
   "execution_count": null,
   "metadata": {},
   "outputs": [],
   "source": []
  }
 ],
 "metadata": {
  "kernelspec": {
   "display_name": "Python 3",
   "language": "python",
   "name": "python3"
  },
  "language_info": {
   "codemirror_mode": {
    "name": "ipython",
    "version": 3
   },
   "file_extension": ".py",
   "mimetype": "text/x-python",
   "name": "python",
   "nbconvert_exporter": "python",
   "pygments_lexer": "ipython3",
   "version": "3.8.3"
  }
 },
 "nbformat": 4,
 "nbformat_minor": 2
}
