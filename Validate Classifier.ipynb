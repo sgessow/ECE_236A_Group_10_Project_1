{
 "cells": [
  {
   "cell_type": "code",
   "execution_count": 1,
   "metadata": {},
   "outputs": [],
   "source": [
    "import matplotlib.pyplot as plt\n",
    "import time\n",
    "import numpy as np\n",
    "from importlib import reload"
   ]
  },
  {
   "cell_type": "code",
   "execution_count": 2,
   "metadata": {},
   "outputs": [
    {
     "ename": "OSError",
     "evalue": "Data/mnist_train.csv not found.",
     "output_type": "error",
     "traceback": [
      "\u001b[0;31m---------------------------------------------------------------------------\u001b[0m",
      "\u001b[0;31mOSError\u001b[0m                                   Traceback (most recent call last)",
      "\u001b[0;32m<ipython-input-2-f6c45ab99481>\u001b[0m in \u001b[0;36m<module>\u001b[0;34m()\u001b[0m\n\u001b[1;32m      1\u001b[0m \u001b[0;31m# Read in the training data\u001b[0m\u001b[0;34m\u001b[0m\u001b[0;34m\u001b[0m\u001b[0;34m\u001b[0m\u001b[0m\n\u001b[0;32m----> 2\u001b[0;31m \u001b[0mtrain_data\u001b[0m \u001b[0;34m=\u001b[0m \u001b[0mnp\u001b[0m\u001b[0;34m.\u001b[0m\u001b[0mgenfromtxt\u001b[0m\u001b[0;34m(\u001b[0m\u001b[0;34m'Data/mnist_train.csv'\u001b[0m\u001b[0;34m,\u001b[0m \u001b[0mdelimiter\u001b[0m\u001b[0;34m=\u001b[0m\u001b[0;34m','\u001b[0m\u001b[0;34m)\u001b[0m\u001b[0;34m\u001b[0m\u001b[0;34m\u001b[0m\u001b[0m\n\u001b[0m\u001b[1;32m      3\u001b[0m \u001b[0;31m# The first row is the headers so we drop it\u001b[0m\u001b[0;34m\u001b[0m\u001b[0;34m\u001b[0m\u001b[0;34m\u001b[0m\u001b[0m\n\u001b[1;32m      4\u001b[0m \u001b[0mtrain_data\u001b[0m \u001b[0;34m=\u001b[0m \u001b[0mtrain_data\u001b[0m\u001b[0;34m[\u001b[0m\u001b[0;36m1\u001b[0m\u001b[0;34m:\u001b[0m\u001b[0;34m]\u001b[0m\u001b[0;34m\u001b[0m\u001b[0;34m\u001b[0m\u001b[0m\n",
      "\u001b[0;32m/Users/sunaybhat/.conda/envs/PythonPrograms/lib/python3.7/site-packages/numpy/lib/npyio.py\u001b[0m in \u001b[0;36mgenfromtxt\u001b[0;34m(fname, dtype, comments, delimiter, skip_header, skip_footer, converters, missing_values, filling_values, usecols, names, excludelist, deletechars, replace_space, autostrip, case_sensitive, defaultfmt, unpack, usemask, loose, invalid_raise, max_rows, encoding)\u001b[0m\n\u001b[1;32m   1757\u001b[0m             \u001b[0mfname\u001b[0m \u001b[0;34m=\u001b[0m \u001b[0mos_fspath\u001b[0m\u001b[0;34m(\u001b[0m\u001b[0mfname\u001b[0m\u001b[0;34m)\u001b[0m\u001b[0;34m\u001b[0m\u001b[0;34m\u001b[0m\u001b[0m\n\u001b[1;32m   1758\u001b[0m         \u001b[0;32mif\u001b[0m \u001b[0misinstance\u001b[0m\u001b[0;34m(\u001b[0m\u001b[0mfname\u001b[0m\u001b[0;34m,\u001b[0m \u001b[0mbasestring\u001b[0m\u001b[0;34m)\u001b[0m\u001b[0;34m:\u001b[0m\u001b[0;34m\u001b[0m\u001b[0;34m\u001b[0m\u001b[0m\n\u001b[0;32m-> 1759\u001b[0;31m             \u001b[0mfid\u001b[0m \u001b[0;34m=\u001b[0m \u001b[0mnp\u001b[0m\u001b[0;34m.\u001b[0m\u001b[0mlib\u001b[0m\u001b[0;34m.\u001b[0m\u001b[0m_datasource\u001b[0m\u001b[0;34m.\u001b[0m\u001b[0mopen\u001b[0m\u001b[0;34m(\u001b[0m\u001b[0mfname\u001b[0m\u001b[0;34m,\u001b[0m \u001b[0;34m'rt'\u001b[0m\u001b[0;34m,\u001b[0m \u001b[0mencoding\u001b[0m\u001b[0;34m=\u001b[0m\u001b[0mencoding\u001b[0m\u001b[0;34m)\u001b[0m\u001b[0;34m\u001b[0m\u001b[0;34m\u001b[0m\u001b[0m\n\u001b[0m\u001b[1;32m   1760\u001b[0m             \u001b[0mfid_ctx\u001b[0m \u001b[0;34m=\u001b[0m \u001b[0mcontextlib\u001b[0m\u001b[0;34m.\u001b[0m\u001b[0mclosing\u001b[0m\u001b[0;34m(\u001b[0m\u001b[0mfid\u001b[0m\u001b[0;34m)\u001b[0m\u001b[0;34m\u001b[0m\u001b[0;34m\u001b[0m\u001b[0m\n\u001b[1;32m   1761\u001b[0m         \u001b[0;32melse\u001b[0m\u001b[0;34m:\u001b[0m\u001b[0;34m\u001b[0m\u001b[0;34m\u001b[0m\u001b[0m\n",
      "\u001b[0;32m/Users/sunaybhat/.conda/envs/PythonPrograms/lib/python3.7/site-packages/numpy/lib/_datasource.py\u001b[0m in \u001b[0;36mopen\u001b[0;34m(path, mode, destpath, encoding, newline)\u001b[0m\n\u001b[1;32m    267\u001b[0m \u001b[0;34m\u001b[0m\u001b[0m\n\u001b[1;32m    268\u001b[0m     \u001b[0mds\u001b[0m \u001b[0;34m=\u001b[0m \u001b[0mDataSource\u001b[0m\u001b[0;34m(\u001b[0m\u001b[0mdestpath\u001b[0m\u001b[0;34m)\u001b[0m\u001b[0;34m\u001b[0m\u001b[0;34m\u001b[0m\u001b[0m\n\u001b[0;32m--> 269\u001b[0;31m     \u001b[0;32mreturn\u001b[0m \u001b[0mds\u001b[0m\u001b[0;34m.\u001b[0m\u001b[0mopen\u001b[0m\u001b[0;34m(\u001b[0m\u001b[0mpath\u001b[0m\u001b[0;34m,\u001b[0m \u001b[0mmode\u001b[0m\u001b[0;34m,\u001b[0m \u001b[0mencoding\u001b[0m\u001b[0;34m=\u001b[0m\u001b[0mencoding\u001b[0m\u001b[0;34m,\u001b[0m \u001b[0mnewline\u001b[0m\u001b[0;34m=\u001b[0m\u001b[0mnewline\u001b[0m\u001b[0;34m)\u001b[0m\u001b[0;34m\u001b[0m\u001b[0;34m\u001b[0m\u001b[0m\n\u001b[0m\u001b[1;32m    270\u001b[0m \u001b[0;34m\u001b[0m\u001b[0m\n\u001b[1;32m    271\u001b[0m \u001b[0;34m\u001b[0m\u001b[0m\n",
      "\u001b[0;32m/Users/sunaybhat/.conda/envs/PythonPrograms/lib/python3.7/site-packages/numpy/lib/_datasource.py\u001b[0m in \u001b[0;36mopen\u001b[0;34m(self, path, mode, encoding, newline)\u001b[0m\n\u001b[1;32m    621\u001b[0m                                       encoding=encoding, newline=newline)\n\u001b[1;32m    622\u001b[0m         \u001b[0;32melse\u001b[0m\u001b[0;34m:\u001b[0m\u001b[0;34m\u001b[0m\u001b[0;34m\u001b[0m\u001b[0m\n\u001b[0;32m--> 623\u001b[0;31m             \u001b[0;32mraise\u001b[0m \u001b[0mIOError\u001b[0m\u001b[0;34m(\u001b[0m\u001b[0;34m\"%s not found.\"\u001b[0m \u001b[0;34m%\u001b[0m \u001b[0mpath\u001b[0m\u001b[0;34m)\u001b[0m\u001b[0;34m\u001b[0m\u001b[0;34m\u001b[0m\u001b[0m\n\u001b[0m\u001b[1;32m    624\u001b[0m \u001b[0;34m\u001b[0m\u001b[0m\n\u001b[1;32m    625\u001b[0m \u001b[0;34m\u001b[0m\u001b[0m\n",
      "\u001b[0;31mOSError\u001b[0m: Data/mnist_train.csv not found."
     ]
    }
   ],
   "source": [
    "# Read in the training data\n",
    "train_data = np.genfromtxt('Data/mnist_train.csv', delimiter=',')\n",
    "# The first row is the headers so we drop it\n",
    "train_data = train_data[1:]"
   ]
  },
  {
   "cell_type": "code",
   "execution_count": 3,
   "metadata": {},
   "outputs": [],
   "source": [
    "# Read in the testing data\n",
    "test_data = np.genfromtxt('Data/mnist_test.csv', delimiter=',')\n",
    "# The first row is the headers so we drop it\n",
    "test_data = test_data[1:]"
   ]
  },
  {
   "cell_type": "code",
   "execution_count": 14,
   "metadata": {},
   "outputs": [
    {
     "name": "stdout",
     "output_type": "stream",
     "text": [
      "Runing Classifier:  1 for  (1.0, 7.0)\n",
      "Done  training, yay!...\n",
      "Took 33.190 seconds to train\n"
     ]
    }
   ],
   "source": [
    "# Train 1 and 7 Classifer\n",
    "digit_mask = (train_data[:, 0] == 1) | (train_data[:, 0] == 7)  # Filter Digits Down\n",
    "filteredData = train_data[digit_mask, :]   \n",
    "x_train = filteredData[:, 1:]    \n",
    "y_train = filteredData[:, 0]\n",
    "\n",
    "digit_mask = (test_data[:, 0] == 1) | (test_data[:, 0] == 7)  # Filter Digits Down    \n",
    "filteredData = test_data[digit_mask, :]   \n",
    "x_test = filteredData[:, 1:]    \n",
    "y_test = filteredData[:, 0]\n",
    "\n",
    "import MyClassifier_10 as cl\n",
    "reload(cl)\n",
    "\n",
    "Classify_1and7 = cl.MyClassifier(2, 784)\n",
    "start_time = time.time()\n",
    "Classify_1and7.train(0.6, x_train, y_train)\n",
    "tottime = time.time() - start_time\n",
    "print('Took {:.3f} seconds to train'.format(tottime))"
   ]
  },
  {
   "cell_type": "code",
   "execution_count": 1,
   "metadata": {},
   "outputs": [
    {
     "ename": "NameError",
     "evalue": "name 'Classify_1and7' is not defined",
     "output_type": "error",
     "traceback": [
      "\u001b[0;31m---------------------------------------------------------------------------\u001b[0m",
      "\u001b[0;31mNameError\u001b[0m                                 Traceback (most recent call last)",
      "\u001b[0;32m<ipython-input-1-23fbf746f9b4>\u001b[0m in \u001b[0;36m<module>\u001b[0;34m()\u001b[0m\n\u001b[1;32m      3\u001b[0m \u001b[0;32mfor\u001b[0m \u001b[0mi\u001b[0m \u001b[0;32min\u001b[0m \u001b[0mrange\u001b[0m\u001b[0;34m(\u001b[0m\u001b[0;36m0\u001b[0m\u001b[0;34m,\u001b[0m\u001b[0;36m11\u001b[0m\u001b[0;34m)\u001b[0m\u001b[0;34m:\u001b[0m\u001b[0;34m\u001b[0m\u001b[0;34m\u001b[0m\u001b[0m\n\u001b[1;32m      4\u001b[0m     \u001b[0maccuracy\u001b[0m \u001b[0;34m=\u001b[0m \u001b[0mlist\u001b[0m\u001b[0;34m(\u001b[0m\u001b[0;34m)\u001b[0m\u001b[0;34m\u001b[0m\u001b[0;34m\u001b[0m\u001b[0m\n\u001b[0;32m----> 5\u001b[0;31m     \u001b[0mresults\u001b[0m \u001b[0;34m=\u001b[0m \u001b[0mClassify_1and7\u001b[0m\u001b[0;34m.\u001b[0m\u001b[0mclassify\u001b[0m\u001b[0;34m(\u001b[0m\u001b[0mx_test\u001b[0m\u001b[0;34m)\u001b[0m\u001b[0;34m\u001b[0m\u001b[0;34m\u001b[0m\u001b[0m\n\u001b[0m\u001b[1;32m      6\u001b[0m     \u001b[0mcorrect\u001b[0m \u001b[0;34m=\u001b[0m \u001b[0mresults\u001b[0m \u001b[0;34m==\u001b[0m \u001b[0my_test\u001b[0m\u001b[0;34m\u001b[0m\u001b[0;34m\u001b[0m\u001b[0m\n\u001b[1;32m      7\u001b[0m     \u001b[0maccuracy\u001b[0m\u001b[0;34m.\u001b[0m\u001b[0mappend\u001b[0m\u001b[0;34m(\u001b[0m\u001b[0mnp\u001b[0m\u001b[0;34m.\u001b[0m\u001b[0msum\u001b[0m\u001b[0;34m(\u001b[0m\u001b[0mcorrect\u001b[0m\u001b[0;34m)\u001b[0m \u001b[0;34m/\u001b[0m \u001b[0mlen\u001b[0m\u001b[0;34m(\u001b[0m\u001b[0my_test\u001b[0m\u001b[0;34m)\u001b[0m \u001b[0;34m*\u001b[0m \u001b[0;36m100\u001b[0m\u001b[0;34m)\u001b[0m\u001b[0;34m\u001b[0m\u001b[0;34m\u001b[0m\u001b[0m\n",
      "\u001b[0;31mNameError\u001b[0m: name 'Classify_1and7' is not defined"
     ]
    }
   ],
   "source": [
    "# Test 1 and 7 Classifer 10 times\n",
    "all_accuracy = list()\n",
    "for i in range(0,11):\n",
    "    accuracy = list()\n",
    "    results = Classify_1and7.classify(x_test)\n",
    "    correct = results == y_test\n",
    "    accuracy.append(np.sum(correct) / len(y_test) * 100)\n",
    "\n",
    "    results = Classify_1and7.TestCorrupted(0.4,x_test)\n",
    "    correct = results == y_test\n",
    "    accuracy.append(np.sum(correct) / len(y_test) * 100)\n",
    "\n",
    "    results = Classify_1and7.TestCorrupted(0.6,x_test)\n",
    "    correct = results == y_test\n",
    "    accuracy.append(np.sum(correct) / len(y_test) * 100)\n",
    "\n",
    "    results = Classify_1and7.TestCorrupted(0.8,x_test)\n",
    "    correct = results == y_test\n",
    "    accuracy.append(np.sum(correct) / len(y_test) * 100)\n",
    "    \n",
    "    all_accuracy.append(accuracy)\n",
    "\n",
    "avg_accuracy = np.nanmean(all_accuracy,axis=0)\n",
    "\n",
    "print('Accuracy for average all test data sets is: ', np.around(avg_accuracy,2))\n",
    "\n",
    "x = [0, 0.4, 0.6, 0.8]\n",
    "\n",
    "# Plot Results\n",
    "plt.plot(x,avg_accuracy, color='olive', linewidth=3, label=\"1 and 7\")\n",
    "plt.legend()\n",
    "plt.grid()\n",
    "\n",
    "plt.xlabel('Test Data Corruption Level (p)',fontsize = 13,fontweight='bold')\n",
    "plt.ylabel('Percent Accuracy (%)',fontsize = 13,fontweight='bold')\n",
    "plt.title('Single Classifier 1 and 7 Results',fontsize = 16,fontweight='bold')\n"
   ]
  },
  {
   "cell_type": "code",
   "execution_count": 16,
   "metadata": {},
   "outputs": [
    {
     "name": "stdout",
     "output_type": "stream",
     "text": [
      "Runing Classifier:  1 for  (0.0, 1.0)\n",
      "Runing Classifier:  2 for  (0.0, 2.0)\n",
      "Runing Classifier:  3 for  (0.0, 3.0)\n",
      "Runing Classifier:  4 for  (0.0, 4.0)\n",
      "Runing Classifier:  5 for  (0.0, 5.0)\n",
      "Runing Classifier:  6 for  (0.0, 6.0)\n",
      "Runing Classifier:  7 for  (0.0, 7.0)\n",
      "Runing Classifier:  8 for  (0.0, 8.0)\n",
      "Runing Classifier:  9 for  (0.0, 9.0)\n",
      "Runing Classifier:  10 for  (1.0, 2.0)\n",
      "Runing Classifier:  11 for  (1.0, 3.0)\n",
      "Runing Classifier:  12 for  (1.0, 4.0)\n",
      "Runing Classifier:  13 for  (1.0, 5.0)\n",
      "Runing Classifier:  14 for  (1.0, 6.0)\n",
      "Runing Classifier:  15 for  (1.0, 7.0)\n",
      "Runing Classifier:  16 for  (1.0, 8.0)\n",
      "Runing Classifier:  17 for  (1.0, 9.0)\n",
      "Runing Classifier:  18 for  (2.0, 3.0)\n",
      "Runing Classifier:  19 for  (2.0, 4.0)\n",
      "Runing Classifier:  20 for  (2.0, 5.0)\n",
      "Runing Classifier:  21 for  (2.0, 6.0)\n",
      "Runing Classifier:  22 for  (2.0, 7.0)\n",
      "Runing Classifier:  23 for  (2.0, 8.0)\n",
      "Runing Classifier:  24 for  (2.0, 9.0)\n",
      "Runing Classifier:  25 for  (3.0, 4.0)\n",
      "Runing Classifier:  26 for  (3.0, 5.0)\n",
      "Runing Classifier:  27 for  (3.0, 6.0)\n",
      "Runing Classifier:  28 for  (3.0, 7.0)\n",
      "Runing Classifier:  29 for  (3.0, 8.0)\n",
      "Runing Classifier:  30 for  (3.0, 9.0)\n",
      "Runing Classifier:  31 for  (4.0, 5.0)\n",
      "Runing Classifier:  32 for  (4.0, 6.0)\n",
      "Runing Classifier:  33 for  (4.0, 7.0)\n",
      "Runing Classifier:  34 for  (4.0, 8.0)\n",
      "Runing Classifier:  35 for  (4.0, 9.0)\n",
      "Runing Classifier:  36 for  (5.0, 6.0)\n",
      "Runing Classifier:  37 for  (5.0, 7.0)\n",
      "Runing Classifier:  38 for  (5.0, 8.0)\n",
      "Runing Classifier:  39 for  (5.0, 9.0)\n",
      "Runing Classifier:  40 for  (6.0, 7.0)\n",
      "Runing Classifier:  41 for  (6.0, 8.0)\n",
      "Runing Classifier:  42 for  (6.0, 9.0)\n"
     ]
    },
    {
     "name": "stderr",
     "output_type": "stream",
     "text": [
      "/Users/sunaybhat/.conda/envs/PythonPrograms/lib/python3.7/site-packages/cvxpy/problems/problem.py:1061: UserWarning: Solution may be inaccurate. Try another solver, adjusting the solver settings, or solve with verbose=True for more information.\n",
      "  \"Solution may be inaccurate. Try another solver, \"\n"
     ]
    },
    {
     "name": "stdout",
     "output_type": "stream",
     "text": [
      "Runing Classifier:  43 for  (7.0, 8.0)\n",
      "Runing Classifier:  44 for  (7.0, 9.0)\n",
      "Runing Classifier:  45 for  (8.0, 9.0)\n",
      "Done  training, yay!...\n",
      "Took 1444.927 seconds to train\n"
     ]
    }
   ],
   "source": [
    "# Train 10 Classifier\n",
    "reload(cl)\n",
    "x_train = train_data[:,1:]\n",
    "y_train = train_data[:,0]\n",
    "x_test = test_data[:,1:]\n",
    "y_test = test_data[:,0]\n",
    "\n",
    "Classify_10 = cl.MyClassifier(10, 784)\n",
    "start_time = time.time()\n",
    "Classify_10.train(0.6, x_train, y_train)\n",
    "tottime = time.time() - start_time\n",
    "print('Took {:.3f} minutes to train'.format(tottime/60))"
   ]
  },
  {
   "cell_type": "code",
   "execution_count": 18,
   "metadata": {},
   "outputs": [
    {
     "name": "stdout",
     "output_type": "stream",
     "text": [
      "Accuracy for all test data sets is:  [92.9  91.52 87.96 78.46]\n"
     ]
    },
    {
     "data": {
      "text/plain": [
       "Text(0.5, 1.0, 'All 10 Classifier Results')"
      ]
     },
     "execution_count": 18,
     "metadata": {},
     "output_type": "execute_result"
    },
    {
     "data": {
      "image/png": "[encoded data removed]",
      "text/plain": [
       "<Figure size 432x288 with 1 Axes>"
      ]
     },
     "metadata": {
      "needs_background": "light"
     },
     "output_type": "display_data"
    }
   ],
   "source": [
    "# Test All 10 Classifer\n",
    "accuracy = list()\n",
    "results = Classify_10.classify(x_test)\n",
    "correct = results == y_test\n",
    "accuracy.append(np.sum(correct) / len(y_test) * 100)\n",
    "\n",
    "results = Classify_10.TestCorrupted(0.4,x_test)\n",
    "correct = results == y_test\n",
    "accuracy.append(np.sum(correct) / len(y_test) * 100)\n",
    "\n",
    "results = Classify_10.TestCorrupted(0.6,x_test)\n",
    "correct = results == y_test\n",
    "accuracy.append(np.sum(correct) / len(y_test) * 100)\n",
    "\n",
    "results = Classify_10.TestCorrupted(0.8,x_test)\n",
    "correct = results == y_test\n",
    "accuracy.append(np.sum(correct) / len(y_test) * 100)\n",
    "\n",
    "print('Accuracy for all test data sets is: ', np.around(accuracy,2))\n",
    "\n",
    "x = [0, 0.4, 0.6, 0.8]\n",
    "\n",
    "# Plot Results\n",
    "plt.plot(x,accuracy, color='olive', linewidth=3, label=\"All 10 Classifer\")\n",
    "plt.legend()\n",
    "plt.grid()\n",
    "\n",
    "plt.xlabel('Test Data Corruption Level (p)',fontsize = 13,fontweight='bold')\n",
    "plt.ylabel('Percent Accuracy (%)',fontsize = 13,fontweight='bold')\n",
    "plt.title('All 10 Classifier Results',fontsize = 16,fontweight='bold')\n",
    "\n"
   ]
  },
  {
   "cell_type": "code",
   "execution_count": null,
   "metadata": {},
   "outputs": [],
   "source": []
  }
 ],
 "metadata": {
  "kernelspec": {
   "display_name": "Python 3",
   "language": "python",
   "name": "python3"
  },
  "language_info": {
   "codemirror_mode": {
    "name": "ipython",
    "version": 3
   },
   "file_extension": ".py",
   "mimetype": "text/x-python",
   "name": "python",
   "nbconvert_exporter": "python",
   "pygments_lexer": "ipython3",
   "version": "3.7.5"
  }
 },
 "nbformat": 4,
 "nbformat_minor": 4
}
