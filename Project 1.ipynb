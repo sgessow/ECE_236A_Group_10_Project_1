{
 "cells": [
  {
   "cell_type": "code",
   "execution_count": 1,
   "metadata": {},
   "outputs": [],
   "source": [
    "import numpy as np\n",
    "import matplotlib.pyplot as plt\n",
    "import cvxpy as cp"
   ]
  },
  {
   "cell_type": "code",
   "execution_count": 2,
   "metadata": {},
   "outputs": [],
   "source": [
    "from importlib import reload"
   ]
  },
  {
   "cell_type": "code",
   "execution_count": 3,
   "metadata": {},
   "outputs": [],
   "source": [
    "# Read in the training data\n",
    "train_data = np.genfromtxt('Data/mnist_train.csv', delimiter=',')\n",
    "# The first row is the headers so we drop it\n",
    "train_data = train_data[1:]\n",
    "\n",
    "# Set up image data and labels\n",
    "x_train = train_data[:,1:]\n",
    "y_train = train_data[:,0]"
   ]
  },
  {
   "cell_type": "code",
   "execution_count": 4,
   "metadata": {},
   "outputs": [],
   "source": [
    "# Read in the testing data\n",
    "test_data = np.genfromtxt('Data/mnist_test.csv', delimiter=',')\n",
    "# The first row is the headers so we drop it\n",
    "test_data = test_data[1:]\n",
    "\n",
    "# Set up image data and labels\n",
    "x_test = test_data[:,1:]\n",
    "y_test = test_data[:,0]"
   ]
  },
  {
   "cell_type": "code",
   "execution_count": 5,
   "metadata": {},
   "outputs": [],
   "source": [
    "# Form the image data into 28x28 arrays since the data is originally 1D array\n",
    "x_train_square = x_train.reshape((60000, 28, 28))\n",
    "x_test_square = x_test.reshape((10000, 28, 28))"
   ]
  },
  {
   "cell_type": "code",
   "execution_count": 6,
   "metadata": {},
   "outputs": [
    {
     "output_type": "execute_result",
     "data": {
      "text/plain": [
       "<matplotlib.image.AxesImage at 0x132a9d940>"
      ]
     },
     "metadata": {},
     "execution_count": 6
    },
    {
     "output_type": "display_data",
     "data": {
      "text/plain": "<Figure size 432x288 with 1 Axes>",
      "image/svg+xml": "<?xml version=\"1.0\" encoding=\"utf-8\" standalone=\"no\"?>\n<!DOCTYPE svg PUBLIC \"-//W3C//DTD SVG 1.1//EN\"\n  \"http://www.w3.org/Graphics/SVG/1.1/DTD/svg11.dtd\">\n<!-- Created with matplotlib (https://matplotlib.org/) -->\n<svg height=\"248.518125pt\" version=\"1.1\" viewBox=\"0 0 251.565 248.518125\" width=\"251.565pt\" xmlns=\"http://www.w3.org/2000/svg\" xmlns:xlink=\"http://www.w3.org/1999/xlink\">\n <metadata>\n  <rdf:RDF xmlns:cc=\"http://creativecommons.org/ns#\" xmlns:dc=\"http://purl.org/dc/elements/1.1/\" xmlns:rdf=\"http://www.w3.org/1999/02/22-rdf-syntax-ns#\">\n   <cc:Work>\n    <dc:type rdf:resource=\"http://purl.org/dc/dcmitype/StillImage\"/>\n    <dc:date>2020-10-31T14:07:02.074675</dc:date>\n    <dc:format>image/svg+xml</dc:format>\n    <dc:creator>\n     <cc:Agent>\n      <dc:title>Matplotlib v3.3.2, https://matplotlib.org/</dc:title>\n     </cc:Agent>\n    </dc:creator>\n   </cc:Work>\n  </rdf:RDF>\n </metadata>\n <defs>\n  <style type=\"text/css\">*{stroke-linecap:butt;stroke-linejoin:round;}</style>\n </defs>\n <g id=\"figure_1\">\n  <g id=\"patch_1\">\n   <path d=\"M 0 248.518125 \nL 251.565 248.518125 \nL 251.565 0 \nL 0 0 \nz\n\" style=\"fill:none;\"/>\n  </g>\n  <g id=\"axes_1\">\n   <g id=\"patch_2\">\n    <path d=\"M 26.925 224.64 \nL 244.365 224.64 \nL 244.365 7.2 \nL 26.925 7.2 \nz\n\" style=\"fill:#ffffff;\"/>\n   </g>\n   <g clip-path=\"url(#pa3646e64fe)\">\n    <image height=\"218\" id=\"image97c012ce99\" transform=\"scale(1 -1)translate(0 -218)\" width=\"218\" x=\"26.925\" xlink:href=\"data:image/png;base64,\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\" y=\"-6.64\"/>\n   </g>\n   <g id=\"matplotlib.axis_1\">\n    <g id=\"xtick_1\">\n     <g id=\"line2d_1\">\n      <defs>\n       <path d=\"M 0 0 \nL 0 3.5 \n\" id=\"m0fe66b3122\" style=\"stroke:#000000;stroke-width:0.8;\"/>\n      </defs>\n      <g>\n       <use style=\"stroke:#000000;stroke-width:0.8;\" x=\"30.807857\" xlink:href=\"#m0fe66b3122\" y=\"224.64\"/>\n      </g>\n     </g>\n     <g id=\"text_1\">\n      <!-- 0 -->\n      <g transform=\"translate(27.626607 239.238437)scale(0.1 -0.1)\">\n       <defs>\n        <path d=\"M 31.78125 66.40625 \nQ 24.171875 66.40625 20.328125 58.90625 \nQ 16.5 51.421875 16.5 36.375 \nQ 16.5 21.390625 20.328125 13.890625 \nQ 24.171875 6.390625 31.78125 6.390625 \nQ 39.453125 6.390625 43.28125 13.890625 \nQ 47.125 21.390625 47.125 36.375 \nQ 47.125 51.421875 43.28125 58.90625 \nQ 39.453125 66.40625 31.78125 66.40625 \nz\nM 31.78125 74.21875 \nQ 44.046875 74.21875 50.515625 64.515625 \nQ 56.984375 54.828125 56.984375 36.375 \nQ 56.984375 17.96875 50.515625 8.265625 \nQ 44.046875 -1.421875 31.78125 -1.421875 \nQ 19.53125 -1.421875 13.0625 8.265625 \nQ 6.59375 17.96875 6.59375 36.375 \nQ 6.59375 54.828125 13.0625 64.515625 \nQ 19.53125 74.21875 31.78125 74.21875 \nz\n\" id=\"DejaVuSans-48\"/>\n       </defs>\n       <use xlink:href=\"#DejaVuSans-48\"/>\n      </g>\n     </g>\n    </g>\n    <g id=\"xtick_2\">\n     <g id=\"line2d_2\">\n      <g>\n       <use style=\"stroke:#000000;stroke-width:0.8;\" x=\"69.636429\" xlink:href=\"#m0fe66b3122\" y=\"224.64\"/>\n      </g>\n     </g>\n     <g id=\"text_2\">\n      <!-- 5 -->\n      <g transform=\"translate(66.455179 239.238437)scale(0.1 -0.1)\">\n       <defs>\n        <path d=\"M 10.796875 72.90625 \nL 49.515625 72.90625 \nL 49.515625 64.59375 \nL 19.828125 64.59375 \nL 19.828125 46.734375 \nQ 21.96875 47.46875 24.109375 47.828125 \nQ 26.265625 48.1875 28.421875 48.1875 \nQ 40.625 48.1875 47.75 41.5 \nQ 54.890625 34.8125 54.890625 23.390625 \nQ 54.890625 11.625 47.5625 5.09375 \nQ 40.234375 -1.421875 26.90625 -1.421875 \nQ 22.3125 -1.421875 17.546875 -0.640625 \nQ 12.796875 0.140625 7.71875 1.703125 \nL 7.71875 11.625 \nQ 12.109375 9.234375 16.796875 8.0625 \nQ 21.484375 6.890625 26.703125 6.890625 \nQ 35.15625 6.890625 40.078125 11.328125 \nQ 45.015625 15.765625 45.015625 23.390625 \nQ 45.015625 31 40.078125 35.4375 \nQ 35.15625 39.890625 26.703125 39.890625 \nQ 22.75 39.890625 18.8125 39.015625 \nQ 14.890625 38.140625 10.796875 36.28125 \nz\n\" id=\"DejaVuSans-53\"/>\n       </defs>\n       <use xlink:href=\"#DejaVuSans-53\"/>\n      </g>\n     </g>\n    </g>\n    <g id=\"xtick_3\">\n     <g id=\"line2d_3\">\n      <g>\n       <use style=\"stroke:#000000;stroke-width:0.8;\" x=\"108.465\" xlink:href=\"#m0fe66b3122\" y=\"224.64\"/>\n      </g>\n     </g>\n     <g id=\"text_3\">\n      <!-- 10 -->\n      <g transform=\"translate(102.1025 239.238437)scale(0.1 -0.1)\">\n       <defs>\n        <path d=\"M 12.40625 8.296875 \nL 28.515625 8.296875 \nL 28.515625 63.921875 \nL 10.984375 60.40625 \nL 10.984375 69.390625 \nL 28.421875 72.90625 \nL 38.28125 72.90625 \nL 38.28125 8.296875 \nL 54.390625 8.296875 \nL 54.390625 0 \nL 12.40625 0 \nz\n\" id=\"DejaVuSans-49\"/>\n       </defs>\n       <use xlink:href=\"#DejaVuSans-49\"/>\n       <use x=\"63.623047\" xlink:href=\"#DejaVuSans-48\"/>\n      </g>\n     </g>\n    </g>\n    <g id=\"xtick_4\">\n     <g id=\"line2d_4\">\n      <g>\n       <use style=\"stroke:#000000;stroke-width:0.8;\" x=\"147.293571\" xlink:href=\"#m0fe66b3122\" y=\"224.64\"/>\n      </g>\n     </g>\n     <g id=\"text_4\">\n      <!-- 15 -->\n      <g transform=\"translate(140.931071 239.238437)scale(0.1 -0.1)\">\n       <use xlink:href=\"#DejaVuSans-49\"/>\n       <use x=\"63.623047\" xlink:href=\"#DejaVuSans-53\"/>\n      </g>\n     </g>\n    </g>\n    <g id=\"xtick_5\">\n     <g id=\"line2d_5\">\n      <g>\n       <use style=\"stroke:#000000;stroke-width:0.8;\" x=\"186.122143\" xlink:href=\"#m0fe66b3122\" y=\"224.64\"/>\n      </g>\n     </g>\n     <g id=\"text_5\">\n      <!-- 20 -->\n      <g transform=\"translate(179.759643 239.238437)scale(0.1 -0.1)\">\n       <defs>\n        <path d=\"M 19.1875 8.296875 \nL 53.609375 8.296875 \nL 53.609375 0 \nL 7.328125 0 \nL 7.328125 8.296875 \nQ 12.9375 14.109375 22.625 23.890625 \nQ 32.328125 33.6875 34.8125 36.53125 \nQ 39.546875 41.84375 41.421875 45.53125 \nQ 43.3125 49.21875 43.3125 52.78125 \nQ 43.3125 58.59375 39.234375 62.25 \nQ 35.15625 65.921875 28.609375 65.921875 \nQ 23.96875 65.921875 18.8125 64.3125 \nQ 13.671875 62.703125 7.8125 59.421875 \nL 7.8125 69.390625 \nQ 13.765625 71.78125 18.9375 73 \nQ 24.125 74.21875 28.421875 74.21875 \nQ 39.75 74.21875 46.484375 68.546875 \nQ 53.21875 62.890625 53.21875 53.421875 \nQ 53.21875 48.921875 51.53125 44.890625 \nQ 49.859375 40.875 45.40625 35.40625 \nQ 44.1875 33.984375 37.640625 27.21875 \nQ 31.109375 20.453125 19.1875 8.296875 \nz\n\" id=\"DejaVuSans-50\"/>\n       </defs>\n       <use xlink:href=\"#DejaVuSans-50\"/>\n       <use x=\"63.623047\" xlink:href=\"#DejaVuSans-48\"/>\n      </g>\n     </g>\n    </g>\n    <g id=\"xtick_6\">\n     <g id=\"line2d_6\">\n      <g>\n       <use style=\"stroke:#000000;stroke-width:0.8;\" x=\"224.950714\" xlink:href=\"#m0fe66b3122\" y=\"224.64\"/>\n      </g>\n     </g>\n     <g id=\"text_6\">\n      <!-- 25 -->\n      <g transform=\"translate(218.588214 239.238437)scale(0.1 -0.1)\">\n       <use xlink:href=\"#DejaVuSans-50\"/>\n       <use x=\"63.623047\" xlink:href=\"#DejaVuSans-53\"/>\n      </g>\n     </g>\n    </g>\n   </g>\n   <g id=\"matplotlib.axis_2\">\n    <g id=\"ytick_1\">\n     <g id=\"line2d_7\">\n      <defs>\n       <path d=\"M 0 0 \nL -3.5 0 \n\" id=\"m58a377abf7\" style=\"stroke:#000000;stroke-width:0.8;\"/>\n      </defs>\n      <g>\n       <use style=\"stroke:#000000;stroke-width:0.8;\" x=\"26.925\" xlink:href=\"#m58a377abf7\" y=\"11.082857\"/>\n      </g>\n     </g>\n     <g id=\"text_7\">\n      <!-- 0 -->\n      <g transform=\"translate(13.5625 14.882076)scale(0.1 -0.1)\">\n       <use xlink:href=\"#DejaVuSans-48\"/>\n      </g>\n     </g>\n    </g>\n    <g id=\"ytick_2\">\n     <g id=\"line2d_8\">\n      <g>\n       <use style=\"stroke:#000000;stroke-width:0.8;\" x=\"26.925\" xlink:href=\"#m58a377abf7\" y=\"49.911429\"/>\n      </g>\n     </g>\n     <g id=\"text_8\">\n      <!-- 5 -->\n      <g transform=\"translate(13.5625 53.710647)scale(0.1 -0.1)\">\n       <use xlink:href=\"#DejaVuSans-53\"/>\n      </g>\n     </g>\n    </g>\n    <g id=\"ytick_3\">\n     <g id=\"line2d_9\">\n      <g>\n       <use style=\"stroke:#000000;stroke-width:0.8;\" x=\"26.925\" xlink:href=\"#m58a377abf7\" y=\"88.74\"/>\n      </g>\n     </g>\n     <g id=\"text_9\">\n      <!-- 10 -->\n      <g transform=\"translate(7.2 92.539219)scale(0.1 -0.1)\">\n       <use xlink:href=\"#DejaVuSans-49\"/>\n       <use x=\"63.623047\" xlink:href=\"#DejaVuSans-48\"/>\n      </g>\n     </g>\n    </g>\n    <g id=\"ytick_4\">\n     <g id=\"line2d_10\">\n      <g>\n       <use style=\"stroke:#000000;stroke-width:0.8;\" x=\"26.925\" xlink:href=\"#m58a377abf7\" y=\"127.568571\"/>\n      </g>\n     </g>\n     <g id=\"text_10\">\n      <!-- 15 -->\n      <g transform=\"translate(7.2 131.36779)scale(0.1 -0.1)\">\n       <use xlink:href=\"#DejaVuSans-49\"/>\n       <use x=\"63.623047\" xlink:href=\"#DejaVuSans-53\"/>\n      </g>\n     </g>\n    </g>\n    <g id=\"ytick_5\">\n     <g id=\"line2d_11\">\n      <g>\n       <use style=\"stroke:#000000;stroke-width:0.8;\" x=\"26.925\" xlink:href=\"#m58a377abf7\" y=\"166.397143\"/>\n      </g>\n     </g>\n     <g id=\"text_11\">\n      <!-- 20 -->\n      <g transform=\"translate(7.2 170.196362)scale(0.1 -0.1)\">\n       <use xlink:href=\"#DejaVuSans-50\"/>\n       <use x=\"63.623047\" xlink:href=\"#DejaVuSans-48\"/>\n      </g>\n     </g>\n    </g>\n    <g id=\"ytick_6\">\n     <g id=\"line2d_12\">\n      <g>\n       <use style=\"stroke:#000000;stroke-width:0.8;\" x=\"26.925\" xlink:href=\"#m58a377abf7\" y=\"205.225714\"/>\n      </g>\n     </g>\n     <g id=\"text_12\">\n      <!-- 25 -->\n      <g transform=\"translate(7.2 209.024933)scale(0.1 -0.1)\">\n       <use xlink:href=\"#DejaVuSans-50\"/>\n       <use x=\"63.623047\" xlink:href=\"#DejaVuSans-53\"/>\n      </g>\n     </g>\n    </g>\n   </g>\n   <g id=\"patch_3\">\n    <path d=\"M 26.925 224.64 \nL 26.925 7.2 \n\" style=\"fill:none;stroke:#000000;stroke-linecap:square;stroke-linejoin:miter;stroke-width:0.8;\"/>\n   </g>\n   <g id=\"patch_4\">\n    <path d=\"M 244.365 224.64 \nL 244.365 7.2 \n\" style=\"fill:none;stroke:#000000;stroke-linecap:square;stroke-linejoin:miter;stroke-width:0.8;\"/>\n   </g>\n   <g id=\"patch_5\">\n    <path d=\"M 26.925 224.64 \nL 244.365 224.64 \n\" style=\"fill:none;stroke:#000000;stroke-linecap:square;stroke-linejoin:miter;stroke-width:0.8;\"/>\n   </g>\n   <g id=\"patch_6\">\n    <path d=\"M 26.925 7.2 \nL 244.365 7.2 \n\" style=\"fill:none;stroke:#000000;stroke-linecap:square;stroke-linejoin:miter;stroke-width:0.8;\"/>\n   </g>\n  </g>\n </g>\n <defs>\n  <clipPath id=\"pa3646e64fe\">\n   <rect height=\"217.44\" width=\"217.44\" x=\"26.925\" y=\"7.2\"/>\n  </clipPath>\n </defs>\n</svg>\n",
      "image/png": "[encoded data removed]"
     },
     "metadata": {
      "needs_background": "light"
     }
    }
   ],
   "source": [
    "plt.imshow(x_train_square[0])"
   ]
  },
  {
   "cell_type": "code",
   "execution_count": 63,
   "metadata": {},
   "outputs": [
    {
     "output_type": "execute_result",
     "data": {
      "text/plain": [
       "<module 'MyClassifier_10' from '/Users/sam/GitHub/ECE_236A_Group_10/MyClassifier_10.py'>"
      ]
     },
     "metadata": {},
     "execution_count": 63
    }
   ],
   "source": [
    "import MyClassifier_10 as cl\n",
    "reload(cl)"
   ]
  },
  {
   "cell_type": "code",
   "execution_count": 64,
   "metadata": {},
   "outputs": [],
   "source": [
    "classifier = cl.MyClassifier(10, 784)"
   ]
  },
  {
   "cell_type": "code",
   "execution_count": 65,
   "metadata": {
    "scrolled": true,
    "tags": [
     "outputPrepend"
    ]
   },
   "outputs": [
    {
     "output_type": "stream",
     "name": "stdout",
     "text": [
      "creasing, column 38073 empty\n",
      "WARN: A->p (column pointers) not strictly increasing, column 38074 empty\n",
      "WARN: A->p (column pointers) not strictly increasing, column 38075 empty\n",
      "WARN: A->p (column pointers) not strictly increasing, column 38076 empty\n",
      "WARN: A->p (column pointers) not strictly increasing, column 38077 empty\n",
      "WARN: A->p (column pointers) not strictly increasing, column 38078 empty\n",
      "WARN: A->p (column pointers) not strictly increasing, column 38079 empty\n",
      "WARN: A->p (column pointers) not strictly increasing, column 38080 empty\n",
      "WARN: A->p (column pointers) not strictly increasing, column 38105 empty\n",
      "WARN: A->p (column pointers) not strictly increasing, column 38106 empty\n",
      "WARN: A->p (column pointers) not strictly increasing, column 38107 empty\n",
      "WARN: A->p (column pointers) not strictly increasing, column 38108 empty\n",
      "WARN: A->p (column pointers) not strictly increasing, column 38133 empty\n",
      "WARN: A->p (column pointers) not strictly increasing, column 38134 empty\n",
      "WARN: A->p (column pointers) not strictly increasing, column 38135 empty\n",
      "WARN: A->p (column pointers) not strictly increasing, column 38136 empty\n",
      "WARN: A->p (column pointers) not strictly increasing, column 38162 empty\n",
      "WARN: A->p (column pointers) not strictly increasing, column 38163 empty\n",
      "WARN: A->p (column pointers) not strictly increasing, column 38164 empty\n",
      "WARN: A->p (column pointers) not strictly increasing, column 38191 empty\n",
      "WARN: A->p (column pointers) not strictly increasing, column 38192 empty\n",
      "WARN: A->p (column pointers) not strictly increasing, column 38220 empty\n",
      "WARN: A->p (column pointers) not strictly increasing, column 38245 empty\n",
      "WARN: A->p (column pointers) not strictly increasing, column 38246 empty\n",
      "WARN: A->p (column pointers) not strictly increasing, column 38247 empty\n",
      "WARN: A->p (column pointers) not strictly increasing, column 38274 empty\n",
      "WARN: A->p (column pointers) not strictly increasing, column 38275 empty\n",
      "WARN: A->p (column pointers) not strictly increasing, column 38303 empty\n",
      "WARN: A->p (column pointers) not strictly increasing, column 38331 empty\n",
      "WARN: A->p (column pointers) not strictly increasing, column 38386 empty\n",
      "WARN: A->p (column pointers) not strictly increasing, column 38387 empty\n",
      "WARN: A->p (column pointers) not strictly increasing, column 38388 empty\n",
      "WARN: A->p (column pointers) not strictly increasing, column 38414 empty\n",
      "WARN: A->p (column pointers) not strictly increasing, column 38415 empty\n",
      "WARN: A->p (column pointers) not strictly increasing, column 38416 empty\n",
      "WARN: A->p (column pointers) not strictly increasing, column 38442 empty\n",
      "WARN: A->p (column pointers) not strictly increasing, column 38443 empty\n",
      "WARN: A->p (column pointers) not strictly increasing, column 38471 empty\n",
      "WARN: A->p (column pointers) not strictly increasing, column 38555 empty\n",
      "WARN: A->p (column pointers) not strictly increasing, column 38639 empty\n",
      "WARN: A->p (column pointers) not strictly increasing, column 38640 empty\n",
      "WARN: A->p (column pointers) not strictly increasing, column 38641 empty\n",
      "WARN: A->p (column pointers) not strictly increasing, column 38666 empty\n",
      "WARN: A->p (column pointers) not strictly increasing, column 38667 empty\n",
      "WARN: A->p (column pointers) not strictly increasing, column 38668 empty\n",
      "WARN: A->p (column pointers) not strictly increasing, column 38669 empty\n",
      "WARN: A->p (column pointers) not strictly increasing, column 38694 empty\n",
      "WARN: A->p (column pointers) not strictly increasing, column 38695 empty\n",
      "WARN: A->p (column pointers) not strictly increasing, column 38696 empty\n",
      "WARN: A->p (column pointers) not strictly increasing, column 38697 empty\n",
      "WARN: A->p (column pointers) not strictly increasing, column 38698 empty\n",
      "WARN: A->p (column pointers) not strictly increasing, column 38699 empty\n",
      "WARN: A->p (column pointers) not strictly increasing, column 38714 empty\n",
      "WARN: A->p (column pointers) not strictly increasing, column 38715 empty\n",
      "WARN: A->p (column pointers) not strictly increasing, column 38716 empty\n",
      "WARN: A->p (column pointers) not strictly increasing, column 38717 empty\n",
      "WARN: A->p (column pointers) not strictly increasing, column 38718 empty\n",
      "WARN: A->p (column pointers) not strictly increasing, column 38719 empty\n",
      "WARN: A->p (column pointers) not strictly increasing, column 38720 empty\n",
      "WARN: A->p (column pointers) not strictly increasing, column 38721 empty\n",
      "WARN: A->p (column pointers) not strictly increasing, column 38722 empty\n",
      "WARN: A->p (column pointers) not strictly increasing, column 38723 empty\n",
      "WARN: A->p (column pointers) not strictly increasing, column 38724 empty\n",
      "WARN: A->p (column pointers) not strictly increasing, column 38725 empty\n",
      "WARN: A->p (column pointers) not strictly increasing, column 38726 empty\n",
      "WARN: A->p (column pointers) not strictly increasing, column 38727 empty\n",
      "WARN: A->p (column pointers) not strictly increasing, column 38728 empty\n",
      "WARN: A->p (column pointers) not strictly increasing, column 38729 empty\n",
      "WARN: A->p (column pointers) not strictly increasing, column 38730 empty\n",
      "WARN: A->p (column pointers) not strictly increasing, column 38731 empty\n",
      "WARN: A->p (column pointers) not strictly increasing, column 38732 empty\n",
      "WARN: A->p (column pointers) not strictly increasing, column 38735 empty\n",
      "WARN: A->p (column pointers) not strictly increasing, column 38736 empty\n",
      "WARN: A->p (column pointers) not strictly increasing, column 38740 empty\n",
      "WARN: A->p (column pointers) not strictly increasing, column 38741 empty\n",
      "WARN: A->p (column pointers) not strictly increasing, column 38742 empty\n",
      "WARN: A->p (column pointers) not strictly increasing, column 38743 empty\n",
      "WARN: A->p (column pointers) not strictly increasing, column 38744 empty\n",
      "WARN: A->p (column pointers) not strictly increasing, column 38745 empty\n",
      "WARN: A->p (column pointers) not strictly increasing, column 38746 empty\n",
      "WARN: A->p (column pointers) not strictly increasing, column 38747 empty\n",
      "WARN: A->p (column pointers) not strictly increasing, column 38748 empty\n",
      "WARN: A->p (column pointers) not strictly increasing, column 38749 empty\n",
      "WARN: A->p (column pointers) not strictly increasing, column 38750 empty\n",
      "WARN: A->p (column pointers) not strictly increasing, column 38751 empty\n",
      "WARN: A->p (column pointers) not strictly increasing, column 38752 empty\n",
      "WARN: A->p (column pointers) not strictly increasing, column 38753 empty\n",
      "WARN: A->p (column pointers) not strictly increasing, column 38754 empty\n",
      "WARN: A->p (column pointers) not strictly increasing, column 38755 empty\n",
      "WARN: A->p (column pointers) not strictly increasing, column 38756 empty\n",
      "WARN: A->p (column pointers) not strictly increasing, column 38757 empty\n",
      "WARN: A->p (column pointers) not strictly increasing, column 38758 empty\n",
      "WARN: A->p (column pointers) not strictly increasing, column 38759 empty\n",
      "WARN: A->p (column pointers) not strictly increasing, column 38760 empty\n",
      "WARN: A->p (column pointers) not strictly increasing, column 38761 empty\n",
      "WARN: A->p (column pointers) not strictly increasing, column 38762 empty\n",
      "WARN: A->p (column pointers) not strictly increasing, column 38763 empty\n",
      "WARN: A->p (column pointers) not strictly increasing, column 38764 empty\n",
      "WARN: A->p (column pointers) not strictly increasing, column 38765 empty\n",
      "WARN: A->p (column pointers) not strictly increasing, column 38766 empty\n",
      "WARN: A->p (column pointers) not strictly increasing, column 38767 empty\n",
      "WARN: A->p (column pointers) not strictly increasing, column 38768 empty\n",
      "WARN: A->p (column pointers) not strictly increasing, column 38769 empty\n",
      "WARN: A->p (column pointers) not strictly increasing, column 38770 empty\n",
      "WARN: A->p (column pointers) not strictly increasing, column 38771 empty\n",
      "WARN: A->p (column pointers) not strictly increasing, column 38772 empty\n",
      "WARN: A->p (column pointers) not strictly increasing, column 38773 empty\n",
      "WARN: A->p (column pointers) not strictly increasing, column 38774 empty\n",
      "WARN: A->p (column pointers) not strictly increasing, column 38775 empty\n",
      "WARN: A->p (column pointers) not strictly increasing, column 38776 empty\n",
      "WARN: A->p (column pointers) not strictly increasing, column 38777 empty\n",
      "WARN: A->p (column pointers) not strictly increasing, column 38778 empty\n",
      "Solve Time: 17.059065103530884\n",
      "(35643, 784)\n",
      "[0. 2. 2. ... 2. 0. 2.]\n",
      "Solving for digits 0 and 2\n",
      "WARN: A->p (column pointers) not strictly increasing, column 35643 empty\n",
      "WARN: A->p (column pointers) not strictly increasing, column 35644 empty\n",
      "WARN: A->p (column pointers) not strictly increasing, column 35645 empty\n",
      "WARN: A->p (column pointers) not strictly increasing, column 35646 empty\n",
      "WARN: A->p (column pointers) not strictly increasing, column 35647 empty\n",
      "WARN: A->p (column pointers) not strictly increasing, column 35648 empty\n",
      "WARN: A->p (column pointers) not strictly increasing, column 35649 empty\n",
      "WARN: A->p (column pointers) not strictly increasing, column 35650 empty\n",
      "WARN: A->p (column pointers) not strictly increasing, column 35651 empty\n",
      "WARN: A->p (column pointers) not strictly increasing, column 35652 empty\n",
      "WARN: A->p (column pointers) not strictly increasing, column 35653 empty\n",
      "WARN: A->p (column pointers) not strictly increasing, column 35654 empty\n",
      "WARN: A->p (column pointers) not strictly increasing, column 35659 empty\n",
      "WARN: A->p (column pointers) not strictly increasing, column 35660 empty\n",
      "WARN: A->p (column pointers) not strictly increasing, column 35661 empty\n",
      "WARN: A->p (column pointers) not strictly increasing, column 35662 empty\n",
      "WARN: A->p (column pointers) not strictly increasing, column 35663 empty\n",
      "WARN: A->p (column pointers) not strictly increasing, column 35664 empty\n",
      "WARN: A->p (column pointers) not strictly increasing, column 35665 empty\n",
      "WARN: A->p (column pointers) not strictly increasing, column 35666 empty\n",
      "WARN: A->p (column pointers) not strictly increasing, column 35667 empty\n",
      "WARN: A->p (column pointers) not strictly increasing, column 35668 empty\n",
      "WARN: A->p (column pointers) not strictly increasing, column 35669 empty\n",
      "WARN: A->p (column pointers) not strictly increasing, column 35670 empty\n",
      "WARN: A->p (column pointers) not strictly increasing, column 35671 empty\n",
      "WARN: A->p (column pointers) not strictly increasing, column 35672 empty\n",
      "WARN: A->p (column pointers) not strictly increasing, column 35673 empty\n",
      "WARN: A->p (column pointers) not strictly increasing, column 35674 empty\n",
      "WARN: A->p (column pointers) not strictly increasing, column 35675 empty\n",
      "WARN: A->p (column pointers) not strictly increasing, column 35676 empty\n",
      "WARN: A->p (column pointers) not strictly increasing, column 35677 empty\n",
      "WARN: A->p (column pointers) not strictly increasing, column 35690 empty\n",
      "WARN: A->p (column pointers) not strictly increasing, column 35691 empty\n",
      "WARN: A->p (column pointers) not strictly increasing, column 35692 empty\n",
      "WARN: A->p (column pointers) not strictly increasing, column 35693 empty\n",
      "WARN: A->p (column pointers) not strictly increasing, column 35694 empty\n",
      "WARN: A->p (column pointers) not strictly increasing, column 35695 empty\n",
      "WARN: A->p (column pointers) not strictly increasing, column 35696 empty\n",
      "WARN: A->p (column pointers) not strictly increasing, column 35697 empty\n",
      "WARN: A->p (column pointers) not strictly increasing, column 35698 empty\n",
      "WARN: A->p (column pointers) not strictly increasing, column 35699 empty\n",
      "WARN: A->p (column pointers) not strictly increasing, column 35700 empty\n",
      "WARN: A->p (column pointers) not strictly increasing, column 35701 empty\n",
      "WARN: A->p (column pointers) not strictly increasing, column 35725 empty\n",
      "WARN: A->p (column pointers) not strictly increasing, column 35726 empty\n",
      "WARN: A->p (column pointers) not strictly increasing, column 35727 empty\n",
      "WARN: A->p (column pointers) not strictly increasing, column 35728 empty\n",
      "WARN: A->p (column pointers) not strictly increasing, column 35753 empty\n",
      "WARN: A->p (column pointers) not strictly increasing, column 35754 empty\n",
      "WARN: A->p (column pointers) not strictly increasing, column 35755 empty\n",
      "WARN: A->p (column pointers) not strictly increasing, column 35756 empty\n",
      "WARN: A->p (column pointers) not strictly increasing, column 35781 empty\n",
      "WARN: A->p (column pointers) not strictly increasing, column 35782 empty\n",
      "WARN: A->p (column pointers) not strictly increasing, column 35783 empty\n",
      "WARN: A->p (column pointers) not strictly increasing, column 35784 empty\n",
      "WARN: A->p (column pointers) not strictly increasing, column 35809 empty\n",
      "WARN: A->p (column pointers) not strictly increasing, column 35810 empty\n",
      "WARN: A->p (column pointers) not strictly increasing, column 35811 empty\n",
      "WARN: A->p (column pointers) not strictly increasing, column 35812 empty\n",
      "WARN: A->p (column pointers) not strictly increasing, column 35839 empty\n",
      "WARN: A->p (column pointers) not strictly increasing, column 35840 empty\n",
      "WARN: A->p (column pointers) not strictly increasing, column 35893 empty\n",
      "WARN: A->p (column pointers) not strictly increasing, column 35894 empty\n",
      "WARN: A->p (column pointers) not strictly increasing, column 35895 empty\n",
      "WARN: A->p (column pointers) not strictly increasing, column 35896 empty\n",
      "WARN: A->p (column pointers) not strictly increasing, column 35922 empty\n",
      "WARN: A->p (column pointers) not strictly increasing, column 35923 empty\n",
      "WARN: A->p (column pointers) not strictly increasing, column 35924 empty\n",
      "WARN: A->p (column pointers) not strictly increasing, column 35950 empty\n",
      "WARN: A->p (column pointers) not strictly increasing, column 35951 empty\n",
      "WARN: A->p (column pointers) not strictly increasing, column 35953 empty\n",
      "WARN: A->p (column pointers) not strictly increasing, column 35978 empty\n",
      "WARN: A->p (column pointers) not strictly increasing, column 35979 empty\n",
      "WARN: A->p (column pointers) not strictly increasing, column 36007 empty\n",
      "WARN: A->p (column pointers) not strictly increasing, column 36035 empty\n",
      "WARN: A->p (column pointers) not strictly increasing, column 36036 empty\n",
      "WARN: A->p (column pointers) not strictly increasing, column 36037 empty\n",
      "WARN: A->p (column pointers) not strictly increasing, column 36063 empty\n",
      "WARN: A->p (column pointers) not strictly increasing, column 36064 empty\n",
      "WARN: A->p (column pointers) not strictly increasing, column 36091 empty\n",
      "WARN: A->p (column pointers) not strictly increasing, column 36092 empty\n",
      "WARN: A->p (column pointers) not strictly increasing, column 36119 empty\n",
      "WARN: A->p (column pointers) not strictly increasing, column 36120 empty\n",
      "WARN: A->p (column pointers) not strictly increasing, column 36147 empty\n",
      "WARN: A->p (column pointers) not strictly increasing, column 36148 empty\n",
      "WARN: A->p (column pointers) not strictly increasing, column 36175 empty\n",
      "WARN: A->p (column pointers) not strictly increasing, column 36203 empty\n",
      "WARN: A->p (column pointers) not strictly increasing, column 36230 empty\n",
      "WARN: A->p (column pointers) not strictly increasing, column 36231 empty\n",
      "WARN: A->p (column pointers) not strictly increasing, column 36259 empty\n",
      "WARN: A->p (column pointers) not strictly increasing, column 36260 empty\n",
      "WARN: A->p (column pointers) not strictly increasing, column 36287 empty\n",
      "WARN: A->p (column pointers) not strictly increasing, column 36288 empty\n",
      "WARN: A->p (column pointers) not strictly increasing, column 36314 empty\n",
      "WARN: A->p (column pointers) not strictly increasing, column 36315 empty\n",
      "WARN: A->p (column pointers) not strictly increasing, column 36316 empty\n",
      "WARN: A->p (column pointers) not strictly increasing, column 36317 empty\n",
      "WARN: A->p (column pointers) not strictly increasing, column 36342 empty\n",
      "WARN: A->p (column pointers) not strictly increasing, column 36343 empty\n",
      "WARN: A->p (column pointers) not strictly increasing, column 36344 empty\n",
      "WARN: A->p (column pointers) not strictly increasing, column 36345 empty\n",
      "WARN: A->p (column pointers) not strictly increasing, column 36346 empty\n",
      "WARN: A->p (column pointers) not strictly increasing, column 36347 empty\n",
      "WARN: A->p (column pointers) not strictly increasing, column 36348 empty\n",
      "WARN: A->p (column pointers) not strictly increasing, column 36370 empty\n",
      "WARN: A->p (column pointers) not strictly increasing, column 36371 empty\n",
      "WARN: A->p (column pointers) not strictly increasing, column 36372 empty\n",
      "WARN: A->p (column pointers) not strictly increasing, column 36373 empty\n",
      "WARN: A->p (column pointers) not strictly increasing, column 36374 empty\n",
      "WARN: A->p (column pointers) not strictly increasing, column 36375 empty\n",
      "WARN: A->p (column pointers) not strictly increasing, column 36376 empty\n",
      "WARN: A->p (column pointers) not strictly increasing, column 36377 empty\n",
      "WARN: A->p (column pointers) not strictly increasing, column 36378 empty\n",
      "WARN: A->p (column pointers) not strictly increasing, column 36379 empty\n",
      "WARN: A->p (column pointers) not strictly increasing, column 36380 empty\n",
      "WARN: A->p (column pointers) not strictly increasing, column 36381 empty\n",
      "WARN: A->p (column pointers) not strictly increasing, column 36382 empty\n",
      "WARN: A->p (column pointers) not strictly increasing, column 36383 empty\n",
      "WARN: A->p (column pointers) not strictly increasing, column 36384 empty\n",
      "WARN: A->p (column pointers) not strictly increasing, column 36385 empty\n",
      "WARN: A->p (column pointers) not strictly increasing, column 36386 empty\n",
      "WARN: A->p (column pointers) not strictly increasing, column 36387 empty\n",
      "WARN: A->p (column pointers) not strictly increasing, column 36388 empty\n",
      "WARN: A->p (column pointers) not strictly increasing, column 36389 empty\n",
      "WARN: A->p (column pointers) not strictly increasing, column 36390 empty\n",
      "WARN: A->p (column pointers) not strictly increasing, column 36391 empty\n",
      "WARN: A->p (column pointers) not strictly increasing, column 36392 empty\n",
      "WARN: A->p (column pointers) not strictly increasing, column 36393 empty\n",
      "WARN: A->p (column pointers) not strictly increasing, column 36394 empty\n",
      "WARN: A->p (column pointers) not strictly increasing, column 36395 empty\n",
      "WARN: A->p (column pointers) not strictly increasing, column 36396 empty\n",
      "WARN: A->p (column pointers) not strictly increasing, column 36397 empty\n",
      "WARN: A->p (column pointers) not strictly increasing, column 36398 empty\n",
      "WARN: A->p (column pointers) not strictly increasing, column 36399 empty\n",
      "WARN: A->p (column pointers) not strictly increasing, column 36400 empty\n",
      "WARN: A->p (column pointers) not strictly increasing, column 36401 empty\n",
      "WARN: A->p (column pointers) not strictly increasing, column 36402 empty\n",
      "WARN: A->p (column pointers) not strictly increasing, column 36403 empty\n",
      "WARN: A->p (column pointers) not strictly increasing, column 36404 empty\n",
      "WARN: A->p (column pointers) not strictly increasing, column 36405 empty\n",
      "WARN: A->p (column pointers) not strictly increasing, column 36406 empty\n",
      "WARN: A->p (column pointers) not strictly increasing, column 36407 empty\n",
      "WARN: A->p (column pointers) not strictly increasing, column 36408 empty\n",
      "WARN: A->p (column pointers) not strictly increasing, column 36409 empty\n",
      "WARN: A->p (column pointers) not strictly increasing, column 36410 empty\n",
      "WARN: A->p (column pointers) not strictly increasing, column 36411 empty\n",
      "WARN: A->p (column pointers) not strictly increasing, column 36412 empty\n",
      "WARN: A->p (column pointers) not strictly increasing, column 36413 empty\n",
      "WARN: A->p (column pointers) not strictly increasing, column 36414 empty\n",
      "WARN: A->p (column pointers) not strictly increasing, column 36415 empty\n",
      "WARN: A->p (column pointers) not strictly increasing, column 36416 empty\n",
      "WARN: A->p (column pointers) not strictly increasing, column 36417 empty\n",
      "WARN: A->p (column pointers) not strictly increasing, column 36418 empty\n",
      "WARN: A->p (column pointers) not strictly increasing, column 36419 empty\n",
      "WARN: A->p (column pointers) not strictly increasing, column 36420 empty\n",
      "WARN: A->p (column pointers) not strictly increasing, column 36421 empty\n",
      "WARN: A->p (column pointers) not strictly increasing, column 36422 empty\n",
      "WARN: A->p (column pointers) not strictly increasing, column 36423 empty\n",
      "WARN: A->p (column pointers) not strictly increasing, column 36424 empty\n",
      "WARN: A->p (column pointers) not strictly increasing, column 36425 empty\n",
      "WARN: A->p (column pointers) not strictly increasing, column 36426 empty\n",
      "Failure:Interrupted\n"
     ]
    },
    {
     "output_type": "error",
     "ename": "SolverError",
     "evalue": "Solver 'SCS' failed. Try another solver, or solve with verbose=True for more information.",
     "traceback": [
      "\u001b[0;31m---------------------------------------------------------------------------\u001b[0m",
      "\u001b[0;31mSolverError\u001b[0m                               Traceback (most recent call last)",
      "\u001b[0;32m<ipython-input-65-7f8d9a3209f4>\u001b[0m in \u001b[0;36m<module>\u001b[0;34m\u001b[0m\n\u001b[0;32m----> 1\u001b[0;31m \u001b[0mclassifier\u001b[0m\u001b[0;34m.\u001b[0m\u001b[0mtrain\u001b[0m\u001b[0;34m(\u001b[0m\u001b[0;36m0\u001b[0m\u001b[0;34m,\u001b[0m \u001b[0mx_train\u001b[0m\u001b[0;34m,\u001b[0m \u001b[0my_train\u001b[0m\u001b[0;34m)\u001b[0m\u001b[0;34m\u001b[0m\u001b[0;34m\u001b[0m\u001b[0m\n\u001b[0m",
      "\u001b[0;32m~/GitHub/ECE_236A_Group_10/MyClassifier_10.py\u001b[0m in \u001b[0;36mtrain\u001b[0;34m(self, p, train_data, train_label)\u001b[0m\n\u001b[1;32m     80\u001b[0m             \u001b[0mprint\u001b[0m\u001b[0;34m(\u001b[0m\u001b[0;34m\"Solving for digits {} and {}\"\u001b[0m\u001b[0;34m.\u001b[0m\u001b[0mformat\u001b[0m\u001b[0;34m(\u001b[0m\u001b[0mdigit_i\u001b[0m\u001b[0;34m,\u001b[0m \u001b[0mdigit_j\u001b[0m\u001b[0;34m)\u001b[0m\u001b[0;34m)\u001b[0m\u001b[0;34m\u001b[0m\u001b[0;34m\u001b[0m\u001b[0m\n\u001b[1;32m     81\u001b[0m \u001b[0;34m\u001b[0m\u001b[0m\n\u001b[0;32m---> 82\u001b[0;31m             \u001b[0mresult\u001b[0m \u001b[0;34m=\u001b[0m \u001b[0mprob\u001b[0m\u001b[0;34m.\u001b[0m\u001b[0msolve\u001b[0m\u001b[0;34m(\u001b[0m\u001b[0msolver\u001b[0m\u001b[0;34m=\u001b[0m\u001b[0;34m'SCS'\u001b[0m\u001b[0;34m,\u001b[0m \u001b[0mverbose\u001b[0m\u001b[0;34m=\u001b[0m\u001b[0;32mFalse\u001b[0m\u001b[0;34m)\u001b[0m\u001b[0;34m\u001b[0m\u001b[0;34m\u001b[0m\u001b[0m\n\u001b[0m\u001b[1;32m     83\u001b[0m             \u001b[0mtottime\u001b[0m \u001b[0;34m=\u001b[0m \u001b[0mtime\u001b[0m\u001b[0;34m.\u001b[0m\u001b[0mtime\u001b[0m\u001b[0;34m(\u001b[0m\u001b[0;34m)\u001b[0m \u001b[0;34m-\u001b[0m \u001b[0mstart_time\u001b[0m\u001b[0;34m\u001b[0m\u001b[0;34m\u001b[0m\u001b[0m\n\u001b[1;32m     84\u001b[0m             \u001b[0mprint\u001b[0m\u001b[0;34m(\u001b[0m\u001b[0;34m\"Solve Time:\"\u001b[0m\u001b[0;34m,\u001b[0m \u001b[0mtottime\u001b[0m\u001b[0;34m)\u001b[0m\u001b[0;34m\u001b[0m\u001b[0;34m\u001b[0m\u001b[0m\n",
      "\u001b[0;32m/usr/local/lib/python3.8/site-packages/cvxpy/problems/problem.py\u001b[0m in \u001b[0;36msolve\u001b[0;34m(self, *args, **kwargs)\u001b[0m\n\u001b[1;32m    394\u001b[0m         \u001b[0;32melse\u001b[0m\u001b[0;34m:\u001b[0m\u001b[0;34m\u001b[0m\u001b[0;34m\u001b[0m\u001b[0m\n\u001b[1;32m    395\u001b[0m             \u001b[0msolve_func\u001b[0m \u001b[0;34m=\u001b[0m \u001b[0mProblem\u001b[0m\u001b[0;34m.\u001b[0m\u001b[0m_solve\u001b[0m\u001b[0;34m\u001b[0m\u001b[0;34m\u001b[0m\u001b[0m\n\u001b[0;32m--> 396\u001b[0;31m         \u001b[0;32mreturn\u001b[0m \u001b[0msolve_func\u001b[0m\u001b[0;34m(\u001b[0m\u001b[0mself\u001b[0m\u001b[0;34m,\u001b[0m \u001b[0;34m*\u001b[0m\u001b[0margs\u001b[0m\u001b[0;34m,\u001b[0m \u001b[0;34m**\u001b[0m\u001b[0mkwargs\u001b[0m\u001b[0;34m)\u001b[0m\u001b[0;34m\u001b[0m\u001b[0;34m\u001b[0m\u001b[0m\n\u001b[0m\u001b[1;32m    397\u001b[0m \u001b[0;34m\u001b[0m\u001b[0m\n\u001b[1;32m    398\u001b[0m     \u001b[0;34m@\u001b[0m\u001b[0mclassmethod\u001b[0m\u001b[0;34m\u001b[0m\u001b[0;34m\u001b[0m\u001b[0m\n",
      "\u001b[0;32m/usr/local/lib/python3.8/site-packages/cvxpy/problems/problem.py\u001b[0m in \u001b[0;36m_solve\u001b[0;34m(self, solver, warm_start, verbose, gp, qcp, requires_grad, enforce_dpp, **kwargs)\u001b[0m\n\u001b[1;32m    752\u001b[0m         solution = solving_chain.solve_via_data(\n\u001b[1;32m    753\u001b[0m             self, data, warm_start, verbose, kwargs)\n\u001b[0;32m--> 754\u001b[0;31m         \u001b[0mself\u001b[0m\u001b[0;34m.\u001b[0m\u001b[0munpack_results\u001b[0m\u001b[0;34m(\u001b[0m\u001b[0msolution\u001b[0m\u001b[0;34m,\u001b[0m \u001b[0msolving_chain\u001b[0m\u001b[0;34m,\u001b[0m \u001b[0minverse_data\u001b[0m\u001b[0;34m)\u001b[0m\u001b[0;34m\u001b[0m\u001b[0;34m\u001b[0m\u001b[0m\n\u001b[0m\u001b[1;32m    755\u001b[0m         \u001b[0;32mreturn\u001b[0m \u001b[0mself\u001b[0m\u001b[0;34m.\u001b[0m\u001b[0mvalue\u001b[0m\u001b[0;34m\u001b[0m\u001b[0;34m\u001b[0m\u001b[0m\n\u001b[1;32m    756\u001b[0m \u001b[0;34m\u001b[0m\u001b[0m\n",
      "\u001b[0;32m/usr/local/lib/python3.8/site-packages/cvxpy/problems/problem.py\u001b[0m in \u001b[0;36munpack_results\u001b[0;34m(self, solution, chain, inverse_data)\u001b[0m\n\u001b[1;32m   1064\u001b[0m             )\n\u001b[1;32m   1065\u001b[0m         \u001b[0;32mif\u001b[0m \u001b[0msolution\u001b[0m\u001b[0;34m.\u001b[0m\u001b[0mstatus\u001b[0m \u001b[0;32min\u001b[0m \u001b[0ms\u001b[0m\u001b[0;34m.\u001b[0m\u001b[0mERROR\u001b[0m\u001b[0;34m:\u001b[0m\u001b[0;34m\u001b[0m\u001b[0;34m\u001b[0m\u001b[0m\n\u001b[0;32m-> 1066\u001b[0;31m             raise error.SolverError(\n\u001b[0m\u001b[1;32m   1067\u001b[0m                     \u001b[0;34m\"Solver '%s' failed. \"\u001b[0m \u001b[0;34m%\u001b[0m \u001b[0mchain\u001b[0m\u001b[0;34m.\u001b[0m\u001b[0msolver\u001b[0m\u001b[0;34m.\u001b[0m\u001b[0mname\u001b[0m\u001b[0;34m(\u001b[0m\u001b[0;34m)\u001b[0m \u001b[0;34m+\u001b[0m\u001b[0;34m\u001b[0m\u001b[0;34m\u001b[0m\u001b[0m\n\u001b[1;32m   1068\u001b[0m                     \u001b[0;34m\"Try another solver, or solve with verbose=True for more \"\u001b[0m\u001b[0;34m\u001b[0m\u001b[0;34m\u001b[0m\u001b[0m\n",
      "\u001b[0;31mSolverError\u001b[0m: Solver 'SCS' failed. Try another solver, or solve with verbose=True for more information."
     ]
    }
   ],
   "source": [
    "classifier.train(0, x_train, y_train)"
   ]
  },
  {
   "cell_type": "code",
   "execution_count": 126,
   "metadata": {},
   "outputs": [],
   "source": [
    "train_classes = classifier.classify(x_train)\n",
    "test_classes = classifier.classify(x_test)"
   ]
  },
  {
   "cell_type": "code",
   "execution_count": 129,
   "metadata": {},
   "outputs": [],
   "source": [
    "# Compute the accuracy for the classifications\n",
    "train_accuracy = sum(abs(train_classes == y_train)) / len(y_train)\n",
    "test_accuracy = sum(abs(test_classes == y_test)) / len(y_test)"
   ]
  },
  {
   "cell_type": "markdown",
   "metadata": {},
   "source": [
    "Training and testing accuracy for the basic classifier trained on uncorrupted data set"
   ]
  },
  {
   "cell_type": "code",
   "execution_count": 135,
   "metadata": {},
   "outputs": [
    {
     "data": {
      "text/plain": [
       "0.9859"
      ]
     },
     "execution_count": 135,
     "metadata": {},
     "output_type": "execute_result"
    }
   ],
   "source": [
    "train_accuracy"
   ]
  },
  {
   "cell_type": "code",
   "execution_count": 136,
   "metadata": {},
   "outputs": [
    {
     "data": {
      "text/plain": [
       "0.9169"
      ]
     },
     "execution_count": 136,
     "metadata": {},
     "output_type": "execute_result"
    }
   ],
   "source": [
    "test_accuracy"
   ]
  },
  {
   "cell_type": "code",
   "execution_count": 67,
   "metadata": {},
   "outputs": [],
   "source": [
    "# A function which applies noise to the training or testing data\n",
    "def apply_error(images, p):\n",
    "    corrupt_images = images.copy()\n",
    "    error = np.random.random(images.shape) >= p\n",
    "    corrupt_images = images * error\n",
    "    return corrupt_images"
   ]
  },
  {
   "cell_type": "markdown",
   "metadata": {},
   "source": [
    "We generate corrupt images for various levels of p"
   ]
  },
  {
   "cell_type": "code",
   "execution_count": 68,
   "metadata": {
    "scrolled": true
   },
   "outputs": [],
   "source": [
    "corrupt_images_4 = apply_error(x_test, 0.4)\n",
    "corrupt_images_6 = apply_error(x_test, 0.6)\n",
    "corrupt_images_8 = apply_error(x_test, 0.8)"
   ]
  },
  {
   "cell_type": "code",
   "execution_count": 140,
   "metadata": {},
   "outputs": [],
   "source": [
    "corrupt_classes_4 = classifier.classify(corrupt_images_4)\n",
    "corrupt_classes_6 = classifier.classify(corrupt_images_6)\n",
    "corrupt_classes_8 = classifier.classify(corrupt_images_8)"
   ]
  },
  {
   "cell_type": "code",
   "execution_count": 141,
   "metadata": {},
   "outputs": [],
   "source": [
    "# Compute the accuracy for the classifications\n",
    "corrupt_accuracy_4 = sum(abs(corrupt_classes_4 == y_test)) / len(y_test)\n",
    "corrupt_accuracy_6 = sum(abs(corrupt_classes_6 == y_test)) / len(y_test)\n",
    "corrupt_accuracy_8 = sum(abs(corrupt_classes_8 == y_test)) / len(y_test)"
   ]
  },
  {
   "cell_type": "code",
   "execution_count": 142,
   "metadata": {},
   "outputs": [
    {
     "data": {
      "text/plain": [
       "0.5286"
      ]
     },
     "execution_count": 142,
     "metadata": {},
     "output_type": "execute_result"
    }
   ],
   "source": [
    "corrupt_accuracy_4"
   ]
  },
  {
   "cell_type": "code",
   "execution_count": 143,
   "metadata": {},
   "outputs": [
    {
     "data": {
      "text/plain": [
       "0.3902"
      ]
     },
     "execution_count": 143,
     "metadata": {},
     "output_type": "execute_result"
    }
   ],
   "source": [
    "corrupt_accuracy_6"
   ]
  },
  {
   "cell_type": "code",
   "execution_count": 144,
   "metadata": {},
   "outputs": [
    {
     "data": {
      "text/plain": [
       "0.2561"
      ]
     },
     "execution_count": 144,
     "metadata": {},
     "output_type": "execute_result"
    }
   ],
   "source": [
    "corrupt_accuracy_8"
   ]
  },
  {
   "cell_type": "markdown",
   "metadata": {},
   "source": [
    "Now we consider training with the corrupted data"
   ]
  },
  {
   "cell_type": "code",
   "execution_count": 69,
   "metadata": {
    "tags": [
     "outputPrepend"
    ]
   },
   "outputs": [
    {
     "output_type": "stream",
     "name": "stdout",
     "text": [
      "nters) not strictly increasing, column 36240 empty\n",
      "WARN: A->p (column pointers) not strictly increasing, column 36241 empty\n",
      "WARN: A->p (column pointers) not strictly increasing, column 36242 empty\n",
      "WARN: A->p (column pointers) not strictly increasing, column 36243 empty\n",
      "WARN: A->p (column pointers) not strictly increasing, column 36244 empty\n",
      "WARN: A->p (column pointers) not strictly increasing, column 36245 empty\n",
      "WARN: A->p (column pointers) not strictly increasing, column 36246 empty\n",
      "WARN: A->p (column pointers) not strictly increasing, column 36247 empty\n",
      "WARN: A->p (column pointers) not strictly increasing, column 36248 empty\n",
      "WARN: A->p (column pointers) not strictly increasing, column 36271 empty\n",
      "WARN: A->p (column pointers) not strictly increasing, column 36272 empty\n",
      "WARN: A->p (column pointers) not strictly increasing, column 36273 empty\n",
      "WARN: A->p (column pointers) not strictly increasing, column 36274 empty\n",
      "WARN: A->p (column pointers) not strictly increasing, column 36275 empty\n",
      "WARN: A->p (column pointers) not strictly increasing, column 36300 empty\n",
      "WARN: A->p (column pointers) not strictly increasing, column 36301 empty\n",
      "WARN: A->p (column pointers) not strictly increasing, column 36302 empty\n",
      "WARN: A->p (column pointers) not strictly increasing, column 36303 empty\n",
      "WARN: A->p (column pointers) not strictly increasing, column 36328 empty\n",
      "WARN: A->p (column pointers) not strictly increasing, column 36329 empty\n",
      "WARN: A->p (column pointers) not strictly increasing, column 36330 empty\n",
      "WARN: A->p (column pointers) not strictly increasing, column 36358 empty\n",
      "WARN: A->p (column pointers) not strictly increasing, column 36412 empty\n",
      "WARN: A->p (column pointers) not strictly increasing, column 36413 empty\n",
      "WARN: A->p (column pointers) not strictly increasing, column 36414 empty\n",
      "WARN: A->p (column pointers) not strictly increasing, column 36440 empty\n",
      "WARN: A->p (column pointers) not strictly increasing, column 36441 empty\n",
      "WARN: A->p (column pointers) not strictly increasing, column 36442 empty\n",
      "WARN: A->p (column pointers) not strictly increasing, column 36468 empty\n",
      "WARN: A->p (column pointers) not strictly increasing, column 36469 empty\n",
      "WARN: A->p (column pointers) not strictly increasing, column 36470 empty\n",
      "WARN: A->p (column pointers) not strictly increasing, column 36496 empty\n",
      "WARN: A->p (column pointers) not strictly increasing, column 36497 empty\n",
      "WARN: A->p (column pointers) not strictly increasing, column 36498 empty\n",
      "WARN: A->p (column pointers) not strictly increasing, column 36525 empty\n",
      "WARN: A->p (column pointers) not strictly increasing, column 36526 empty\n",
      "WARN: A->p (column pointers) not strictly increasing, column 36553 empty\n",
      "WARN: A->p (column pointers) not strictly increasing, column 36554 empty\n",
      "WARN: A->p (column pointers) not strictly increasing, column 36580 empty\n",
      "WARN: A->p (column pointers) not strictly increasing, column 36581 empty\n",
      "WARN: A->p (column pointers) not strictly increasing, column 36582 empty\n",
      "WARN: A->p (column pointers) not strictly increasing, column 36609 empty\n",
      "WARN: A->p (column pointers) not strictly increasing, column 36610 empty\n",
      "WARN: A->p (column pointers) not strictly increasing, column 36637 empty\n",
      "WARN: A->p (column pointers) not strictly increasing, column 36638 empty\n",
      "WARN: A->p (column pointers) not strictly increasing, column 36664 empty\n",
      "WARN: A->p (column pointers) not strictly increasing, column 36666 empty\n",
      "WARN: A->p (column pointers) not strictly increasing, column 36692 empty\n",
      "WARN: A->p (column pointers) not strictly increasing, column 36693 empty\n",
      "WARN: A->p (column pointers) not strictly increasing, column 36694 empty\n",
      "WARN: A->p (column pointers) not strictly increasing, column 36720 empty\n",
      "WARN: A->p (column pointers) not strictly increasing, column 36721 empty\n",
      "WARN: A->p (column pointers) not strictly increasing, column 36722 empty\n",
      "WARN: A->p (column pointers) not strictly increasing, column 36749 empty\n",
      "WARN: A->p (column pointers) not strictly increasing, column 36750 empty\n",
      "WARN: A->p (column pointers) not strictly increasing, column 36778 empty\n",
      "WARN: A->p (column pointers) not strictly increasing, column 36805 empty\n",
      "WARN: A->p (column pointers) not strictly increasing, column 36806 empty\n",
      "WARN: A->p (column pointers) not strictly increasing, column 36807 empty\n",
      "WARN: A->p (column pointers) not strictly increasing, column 36833 empty\n",
      "WARN: A->p (column pointers) not strictly increasing, column 36834 empty\n",
      "WARN: A->p (column pointers) not strictly increasing, column 36835 empty\n",
      "WARN: A->p (column pointers) not strictly increasing, column 36860 empty\n",
      "WARN: A->p (column pointers) not strictly increasing, column 36861 empty\n",
      "WARN: A->p (column pointers) not strictly increasing, column 36862 empty\n",
      "WARN: A->p (column pointers) not strictly increasing, column 36863 empty\n",
      "WARN: A->p (column pointers) not strictly increasing, column 36885 empty\n",
      "WARN: A->p (column pointers) not strictly increasing, column 36886 empty\n",
      "WARN: A->p (column pointers) not strictly increasing, column 36887 empty\n",
      "WARN: A->p (column pointers) not strictly increasing, column 36888 empty\n",
      "WARN: A->p (column pointers) not strictly increasing, column 36889 empty\n",
      "WARN: A->p (column pointers) not strictly increasing, column 36890 empty\n",
      "WARN: A->p (column pointers) not strictly increasing, column 36891 empty\n",
      "WARN: A->p (column pointers) not strictly increasing, column 36892 empty\n",
      "WARN: A->p (column pointers) not strictly increasing, column 36893 empty\n",
      "WARN: A->p (column pointers) not strictly increasing, column 36913 empty\n",
      "WARN: A->p (column pointers) not strictly increasing, column 36914 empty\n",
      "WARN: A->p (column pointers) not strictly increasing, column 36915 empty\n",
      "WARN: A->p (column pointers) not strictly increasing, column 36916 empty\n",
      "WARN: A->p (column pointers) not strictly increasing, column 36917 empty\n",
      "WARN: A->p (column pointers) not strictly increasing, column 36918 empty\n",
      "WARN: A->p (column pointers) not strictly increasing, column 36919 empty\n",
      "WARN: A->p (column pointers) not strictly increasing, column 36920 empty\n",
      "WARN: A->p (column pointers) not strictly increasing, column 36921 empty\n",
      "WARN: A->p (column pointers) not strictly increasing, column 36922 empty\n",
      "WARN: A->p (column pointers) not strictly increasing, column 36923 empty\n",
      "WARN: A->p (column pointers) not strictly increasing, column 36924 empty\n",
      "WARN: A->p (column pointers) not strictly increasing, column 36925 empty\n",
      "WARN: A->p (column pointers) not strictly increasing, column 36926 empty\n",
      "WARN: A->p (column pointers) not strictly increasing, column 36927 empty\n",
      "WARN: A->p (column pointers) not strictly increasing, column 36928 empty\n",
      "WARN: A->p (column pointers) not strictly increasing, column 36929 empty\n",
      "WARN: A->p (column pointers) not strictly increasing, column 36930 empty\n",
      "WARN: A->p (column pointers) not strictly increasing, column 36931 empty\n",
      "WARN: A->p (column pointers) not strictly increasing, column 36932 empty\n",
      "WARN: A->p (column pointers) not strictly increasing, column 36933 empty\n",
      "WARN: A->p (column pointers) not strictly increasing, column 36934 empty\n",
      "WARN: A->p (column pointers) not strictly increasing, column 36935 empty\n",
      "WARN: A->p (column pointers) not strictly increasing, column 36936 empty\n",
      "WARN: A->p (column pointers) not strictly increasing, column 36937 empty\n",
      "WARN: A->p (column pointers) not strictly increasing, column 36938 empty\n",
      "WARN: A->p (column pointers) not strictly increasing, column 36939 empty\n",
      "WARN: A->p (column pointers) not strictly increasing, column 36940 empty\n",
      "WARN: A->p (column pointers) not strictly increasing, column 36941 empty\n",
      "WARN: A->p (column pointers) not strictly increasing, column 36942 empty\n",
      "WARN: A->p (column pointers) not strictly increasing, column 36943 empty\n",
      "WARN: A->p (column pointers) not strictly increasing, column 36944 empty\n",
      "WARN: A->p (column pointers) not strictly increasing, column 36945 empty\n",
      "WARN: A->p (column pointers) not strictly increasing, column 36162 empty\n",
      "WARN: A->p (column pointers) not strictly increasing, column 36163 empty\n",
      "WARN: A->p (column pointers) not strictly increasing, column 36164 empty\n",
      "WARN: A->p (column pointers) not strictly increasing, column 36165 empty\n",
      "WARN: A->p (column pointers) not strictly increasing, column 36166 empty\n",
      "WARN: A->p (column pointers) not strictly increasing, column 36167 empty\n",
      "WARN: A->p (column pointers) not strictly increasing, column 36168 empty\n",
      "WARN: A->p (column pointers) not strictly increasing, column 36169 empty\n",
      "WARN: A->p (column pointers) not strictly increasing, column 36170 empty\n",
      "WARN: A->p (column pointers) not strictly increasing, column 36171 empty\n",
      "WARN: A->p (column pointers) not strictly increasing, column 36172 empty\n",
      "WARN: A->p (column pointers) not strictly increasing, column 36173 empty\n",
      "WARN: A->p (column pointers) not strictly increasing, column 36174 empty\n",
      "WARN: A->p (column pointers) not strictly increasing, column 36175 empty\n",
      "WARN: A->p (column pointers) not strictly increasing, column 36176 empty\n",
      "WARN: A->p (column pointers) not strictly increasing, column 36177 empty\n",
      "WARN: A->p (column pointers) not strictly increasing, column 36178 empty\n",
      "WARN: A->p (column pointers) not strictly increasing, column 36179 empty\n",
      "WARN: A->p (column pointers) not strictly increasing, column 36180 empty\n",
      "WARN: A->p (column pointers) not strictly increasing, column 36181 empty\n",
      "WARN: A->p (column pointers) not strictly increasing, column 36182 empty\n",
      "WARN: A->p (column pointers) not strictly increasing, column 36183 empty\n",
      "WARN: A->p (column pointers) not strictly increasing, column 36184 empty\n",
      "WARN: A->p (column pointers) not strictly increasing, column 36185 empty\n",
      "WARN: A->p (column pointers) not strictly increasing, column 36186 empty\n",
      "WARN: A->p (column pointers) not strictly increasing, column 36187 empty\n",
      "WARN: A->p (column pointers) not strictly increasing, column 36188 empty\n",
      "WARN: A->p (column pointers) not strictly increasing, column 36189 empty\n",
      "WARN: A->p (column pointers) not strictly increasing, column 36190 empty\n",
      "WARN: A->p (column pointers) not strictly increasing, column 36191 empty\n",
      "WARN: A->p (column pointers) not strictly increasing, column 36192 empty\n",
      "WARN: A->p (column pointers) not strictly increasing, column 36193 empty\n",
      "WARN: A->p (column pointers) not strictly increasing, column 36194 empty\n",
      "WARN: A->p (column pointers) not strictly increasing, column 36195 empty\n",
      "WARN: A->p (column pointers) not strictly increasing, column 36196 empty\n",
      "WARN: A->p (column pointers) not strictly increasing, column 36197 empty\n",
      "WARN: A->p (column pointers) not strictly increasing, column 36198 empty\n",
      "WARN: A->p (column pointers) not strictly increasing, column 36199 empty\n",
      "WARN: A->p (column pointers) not strictly increasing, column 36200 empty\n",
      "WARN: A->p (column pointers) not strictly increasing, column 36204 empty\n",
      "WARN: A->p (column pointers) not strictly increasing, column 36208 empty\n",
      "WARN: A->p (column pointers) not strictly increasing, column 36209 empty\n",
      "WARN: A->p (column pointers) not strictly increasing, column 36210 empty\n",
      "WARN: A->p (column pointers) not strictly increasing, column 36211 empty\n",
      "WARN: A->p (column pointers) not strictly increasing, column 36212 empty\n",
      "WARN: A->p (column pointers) not strictly increasing, column 36213 empty\n",
      "WARN: A->p (column pointers) not strictly increasing, column 36214 empty\n",
      "WARN: A->p (column pointers) not strictly increasing, column 36215 empty\n",
      "WARN: A->p (column pointers) not strictly increasing, column 36216 empty\n",
      "WARN: A->p (column pointers) not strictly increasing, column 36217 empty\n",
      "WARN: A->p (column pointers) not strictly increasing, column 36218 empty\n",
      "WARN: A->p (column pointers) not strictly increasing, column 36219 empty\n",
      "WARN: A->p (column pointers) not strictly increasing, column 36220 empty\n",
      "WARN: A->p (column pointers) not strictly increasing, column 36222 empty\n",
      "WARN: A->p (column pointers) not strictly increasing, column 36223 empty\n",
      "WARN: A->p (column pointers) not strictly increasing, column 36224 empty\n",
      "WARN: A->p (column pointers) not strictly increasing, column 36227 empty\n",
      "WARN: A->p (column pointers) not strictly increasing, column 36239 empty\n",
      "WARN: A->p (column pointers) not strictly increasing, column 36240 empty\n",
      "WARN: A->p (column pointers) not strictly increasing, column 36241 empty\n",
      "WARN: A->p (column pointers) not strictly increasing, column 36242 empty\n",
      "WARN: A->p (column pointers) not strictly increasing, column 36243 empty\n",
      "WARN: A->p (column pointers) not strictly increasing, column 36244 empty\n",
      "WARN: A->p (column pointers) not strictly increasing, column 36245 empty\n",
      "WARN: A->p (column pointers) not strictly increasing, column 36246 empty\n",
      "WARN: A->p (column pointers) not strictly increasing, column 36247 empty\n",
      "WARN: A->p (column pointers) not strictly increasing, column 36248 empty\n",
      "WARN: A->p (column pointers) not strictly increasing, column 36271 empty\n",
      "WARN: A->p (column pointers) not strictly increasing, column 36272 empty\n",
      "WARN: A->p (column pointers) not strictly increasing, column 36273 empty\n",
      "WARN: A->p (column pointers) not strictly increasing, column 36274 empty\n",
      "WARN: A->p (column pointers) not strictly increasing, column 36275 empty\n",
      "WARN: A->p (column pointers) not strictly increasing, column 36300 empty\n",
      "WARN: A->p (column pointers) not strictly increasing, column 36301 empty\n",
      "WARN: A->p (column pointers) not strictly increasing, column 36302 empty\n",
      "WARN: A->p (column pointers) not strictly increasing, column 36303 empty\n",
      "WARN: A->p (column pointers) not strictly increasing, column 36328 empty\n",
      "WARN: A->p (column pointers) not strictly increasing, column 36329 empty\n",
      "WARN: A->p (column pointers) not strictly increasing, column 36330 empty\n",
      "WARN: A->p (column pointers) not strictly increasing, column 36358 empty\n",
      "WARN: A->p (column pointers) not strictly increasing, column 36412 empty\n",
      "WARN: A->p (column pointers) not strictly increasing, column 36413 empty\n",
      "WARN: A->p (column pointers) not strictly increasing, column 36414 empty\n",
      "WARN: A->p (column pointers) not strictly increasing, column 36440 empty\n",
      "WARN: A->p (column pointers) not strictly increasing, column 36441 empty\n",
      "WARN: A->p (column pointers) not strictly increasing, column 36442 empty\n",
      "WARN: A->p (column pointers) not strictly increasing, column 36468 empty\n",
      "WARN: A->p (column pointers) not strictly increasing, column 36469 empty\n",
      "WARN: A->p (column pointers) not strictly increasing, column 36470 empty\n",
      "WARN: A->p (column pointers) not strictly increasing, column 36496 empty\n",
      "WARN: A->p (column pointers) not strictly increasing, column 36497 empty\n",
      "WARN: A->p (column pointers) not strictly increasing, column 36498 empty\n",
      "WARN: A->p (column pointers) not strictly increasing, column 36525 empty\n",
      "WARN: A->p (column pointers) not strictly increasing, column 36526 empty\n",
      "WARN: A->p (column pointers) not strictly increasing, column 36553 empty\n",
      "WARN: A->p (column pointers) not strictly increasing, column 36554 empty\n",
      "WARN: A->p (column pointers) not strictly increasing, column 36580 empty\n",
      "WARN: A->p (column pointers) not strictly increasing, column 36581 empty\n",
      "WARN: A->p (column pointers) not strictly increasing, column 36582 empty\n",
      "WARN: A->p (column pointers) not strictly increasing, column 36609 empty\n",
      "WARN: A->p (column pointers) not strictly increasing, column 36610 empty\n",
      "WARN: A->p (column pointers) not strictly increasing, column 36637 empty\n",
      "WARN: A->p (column pointers) not strictly increasing, column 36638 empty\n",
      "WARN: A->p (column pointers) not strictly increasing, column 36664 empty\n",
      "WARN: A->p (column pointers) not strictly increasing, column 36666 empty\n",
      "WARN: A->p (column pointers) not strictly increasing, column 36692 empty\n",
      "WARN: A->p (column pointers) not strictly increasing, column 36693 empty\n",
      "WARN: A->p (column pointers) not strictly increasing, column 36694 empty\n",
      "WARN: A->p (column pointers) not strictly increasing, column 36720 empty\n",
      "WARN: A->p (column pointers) not strictly increasing, column 36721 empty\n",
      "WARN: A->p (column pointers) not strictly increasing, column 36722 empty\n",
      "WARN: A->p (column pointers) not strictly increasing, column 36749 empty\n",
      "WARN: A->p (column pointers) not strictly increasing, column 36750 empty\n",
      "WARN: A->p (column pointers) not strictly increasing, column 36778 empty\n",
      "WARN: A->p (column pointers) not strictly increasing, column 36805 empty\n",
      "WARN: A->p (column pointers) not strictly increasing, column 36806 empty\n",
      "WARN: A->p (column pointers) not strictly increasing, column 36807 empty\n",
      "WARN: A->p (column pointers) not strictly increasing, column 36833 empty\n",
      "WARN: A->p (column pointers) not strictly increasing, column 36834 empty\n",
      "WARN: A->p (column pointers) not strictly increasing, column 36835 empty\n",
      "WARN: A->p (column pointers) not strictly increasing, column 36860 empty\n",
      "WARN: A->p (column pointers) not strictly increasing, column 36861 empty\n",
      "WARN: A->p (column pointers) not strictly increasing, column 36862 empty\n",
      "WARN: A->p (column pointers) not strictly increasing, column 36863 empty\n",
      "WARN: A->p (column pointers) not strictly increasing, column 36885 empty\n",
      "WARN: A->p (column pointers) not strictly increasing, column 36886 empty\n",
      "WARN: A->p (column pointers) not strictly increasing, column 36887 empty\n",
      "WARN: A->p (column pointers) not strictly increasing, column 36888 empty\n",
      "WARN: A->p (column pointers) not strictly increasing, column 36889 empty\n",
      "WARN: A->p (column pointers) not strictly increasing, column 36890 empty\n",
      "WARN: A->p (column pointers) not strictly increasing, column 36891 empty\n",
      "WARN: A->p (column pointers) not strictly increasing, column 36892 empty\n",
      "WARN: A->p (column pointers) not strictly increasing, column 36893 empty\n",
      "WARN: A->p (column pointers) not strictly increasing, column 36913 empty\n",
      "WARN: A->p (column pointers) not strictly increasing, column 36914 empty\n",
      "WARN: A->p (column pointers) not strictly increasing, column 36915 empty\n",
      "WARN: A->p (column pointers) not strictly increasing, column 36916 empty\n",
      "WARN: A->p (column pointers) not strictly increasing, column 36917 empty\n",
      "WARN: A->p (column pointers) not strictly increasing, column 36918 empty\n",
      "WARN: A->p (column pointers) not strictly increasing, column 36919 empty\n",
      "WARN: A->p (column pointers) not strictly increasing, column 36920 empty\n",
      "WARN: A->p (column pointers) not strictly increasing, column 36921 empty\n",
      "WARN: A->p (column pointers) not strictly increasing, column 36922 empty\n",
      "WARN: A->p (column pointers) not strictly increasing, column 36923 empty\n",
      "WARN: A->p (column pointers) not strictly increasing, column 36924 empty\n",
      "WARN: A->p (column pointers) not strictly increasing, column 36925 empty\n",
      "WARN: A->p (column pointers) not strictly increasing, column 36926 empty\n",
      "WARN: A->p (column pointers) not strictly increasing, column 36927 empty\n",
      "WARN: A->p (column pointers) not strictly increasing, column 36928 empty\n",
      "WARN: A->p (column pointers) not strictly increasing, column 36929 empty\n",
      "WARN: A->p (column pointers) not strictly increasing, column 36930 empty\n",
      "WARN: A->p (column pointers) not strictly increasing, column 36931 empty\n",
      "WARN: A->p (column pointers) not strictly increasing, column 36932 empty\n",
      "WARN: A->p (column pointers) not strictly increasing, column 36933 empty\n",
      "WARN: A->p (column pointers) not strictly increasing, column 36934 empty\n",
      "WARN: A->p (column pointers) not strictly increasing, column 36935 empty\n",
      "WARN: A->p (column pointers) not strictly increasing, column 36936 empty\n",
      "WARN: A->p (column pointers) not strictly increasing, column 36937 empty\n",
      "WARN: A->p (column pointers) not strictly increasing, column 36938 empty\n",
      "WARN: A->p (column pointers) not strictly increasing, column 36939 empty\n",
      "WARN: A->p (column pointers) not strictly increasing, column 36940 empty\n",
      "WARN: A->p (column pointers) not strictly increasing, column 36941 empty\n",
      "WARN: A->p (column pointers) not strictly increasing, column 36942 empty\n",
      "WARN: A->p (column pointers) not strictly increasing, column 36943 empty\n",
      "WARN: A->p (column pointers) not strictly increasing, column 36944 empty\n",
      "WARN: A->p (column pointers) not strictly increasing, column 36945 empty\n",
      "Failure:Interrupted\n"
     ]
    },
    {
     "output_type": "error",
     "ename": "SolverError",
     "evalue": "Solver 'SCS' failed. Try another solver, or solve with verbose=True for more information.",
     "traceback": [
      "\u001b[0;31m---------------------------------------------------------------------------\u001b[0m",
      "\u001b[0;31mSolverError\u001b[0m                               Traceback (most recent call last)",
      "\u001b[0;32m<ipython-input-69-bd00ca1193e5>\u001b[0m in \u001b[0;36m<module>\u001b[0;34m\u001b[0m\n\u001b[1;32m      1\u001b[0m \u001b[0mcorrupt_classifier\u001b[0m \u001b[0;34m=\u001b[0m \u001b[0mcl\u001b[0m\u001b[0;34m.\u001b[0m\u001b[0mMyClassifier\u001b[0m\u001b[0;34m(\u001b[0m\u001b[0;36m10\u001b[0m\u001b[0;34m,\u001b[0m \u001b[0;36m784\u001b[0m\u001b[0;34m)\u001b[0m\u001b[0;34m\u001b[0m\u001b[0;34m\u001b[0m\u001b[0m\n\u001b[0;32m----> 2\u001b[0;31m \u001b[0mcorrupt_classifier\u001b[0m\u001b[0;34m.\u001b[0m\u001b[0mtrain\u001b[0m\u001b[0;34m(\u001b[0m\u001b[0;36m0.4\u001b[0m\u001b[0;34m,\u001b[0m \u001b[0mx_train\u001b[0m\u001b[0;34m,\u001b[0m \u001b[0my_train\u001b[0m\u001b[0;34m)\u001b[0m\u001b[0;34m\u001b[0m\u001b[0;34m\u001b[0m\u001b[0m\n\u001b[0m",
      "\u001b[0;32m~/GitHub/ECE_236A_Group_10/MyClassifier_10.py\u001b[0m in \u001b[0;36mtrain\u001b[0;34m(self, p, train_data, train_label)\u001b[0m\n\u001b[1;32m     80\u001b[0m             \u001b[0mprint\u001b[0m\u001b[0;34m(\u001b[0m\u001b[0;34m\"Solving for digits {} and {}\"\u001b[0m\u001b[0;34m.\u001b[0m\u001b[0mformat\u001b[0m\u001b[0;34m(\u001b[0m\u001b[0mdigit_i\u001b[0m\u001b[0;34m,\u001b[0m \u001b[0mdigit_j\u001b[0m\u001b[0;34m)\u001b[0m\u001b[0;34m)\u001b[0m\u001b[0;34m\u001b[0m\u001b[0;34m\u001b[0m\u001b[0m\n\u001b[1;32m     81\u001b[0m \u001b[0;34m\u001b[0m\u001b[0m\n\u001b[0;32m---> 82\u001b[0;31m             \u001b[0mresult\u001b[0m \u001b[0;34m=\u001b[0m \u001b[0mprob\u001b[0m\u001b[0;34m.\u001b[0m\u001b[0msolve\u001b[0m\u001b[0;34m(\u001b[0m\u001b[0mverbose\u001b[0m\u001b[0;34m=\u001b[0m\u001b[0;32mFalse\u001b[0m\u001b[0;34m)\u001b[0m\u001b[0;34m\u001b[0m\u001b[0;34m\u001b[0m\u001b[0m\n\u001b[0m\u001b[1;32m     83\u001b[0m             \u001b[0mtottime\u001b[0m \u001b[0;34m=\u001b[0m \u001b[0mtime\u001b[0m\u001b[0;34m.\u001b[0m\u001b[0mtime\u001b[0m\u001b[0;34m(\u001b[0m\u001b[0;34m)\u001b[0m \u001b[0;34m-\u001b[0m \u001b[0mstart_time\u001b[0m\u001b[0;34m\u001b[0m\u001b[0;34m\u001b[0m\u001b[0m\n\u001b[1;32m     84\u001b[0m             \u001b[0mprint\u001b[0m\u001b[0;34m(\u001b[0m\u001b[0;34m\"Solve Time:\"\u001b[0m\u001b[0;34m,\u001b[0m \u001b[0mtottime\u001b[0m\u001b[0;34m)\u001b[0m\u001b[0;34m\u001b[0m\u001b[0;34m\u001b[0m\u001b[0m\n",
      "\u001b[0;32m/usr/local/lib/python3.8/site-packages/cvxpy/problems/problem.py\u001b[0m in \u001b[0;36msolve\u001b[0;34m(self, *args, **kwargs)\u001b[0m\n\u001b[1;32m    394\u001b[0m         \u001b[0;32melse\u001b[0m\u001b[0;34m:\u001b[0m\u001b[0;34m\u001b[0m\u001b[0;34m\u001b[0m\u001b[0m\n\u001b[1;32m    395\u001b[0m             \u001b[0msolve_func\u001b[0m \u001b[0;34m=\u001b[0m \u001b[0mProblem\u001b[0m\u001b[0;34m.\u001b[0m\u001b[0m_solve\u001b[0m\u001b[0;34m\u001b[0m\u001b[0;34m\u001b[0m\u001b[0m\n\u001b[0;32m--> 396\u001b[0;31m         \u001b[0;32mreturn\u001b[0m \u001b[0msolve_func\u001b[0m\u001b[0;34m(\u001b[0m\u001b[0mself\u001b[0m\u001b[0;34m,\u001b[0m \u001b[0;34m*\u001b[0m\u001b[0margs\u001b[0m\u001b[0;34m,\u001b[0m \u001b[0;34m**\u001b[0m\u001b[0mkwargs\u001b[0m\u001b[0;34m)\u001b[0m\u001b[0;34m\u001b[0m\u001b[0;34m\u001b[0m\u001b[0m\n\u001b[0m\u001b[1;32m    397\u001b[0m \u001b[0;34m\u001b[0m\u001b[0m\n\u001b[1;32m    398\u001b[0m     \u001b[0;34m@\u001b[0m\u001b[0mclassmethod\u001b[0m\u001b[0;34m\u001b[0m\u001b[0;34m\u001b[0m\u001b[0m\n",
      "\u001b[0;32m/usr/local/lib/python3.8/site-packages/cvxpy/problems/problem.py\u001b[0m in \u001b[0;36m_solve\u001b[0;34m(self, solver, warm_start, verbose, gp, qcp, requires_grad, enforce_dpp, **kwargs)\u001b[0m\n\u001b[1;32m    752\u001b[0m         solution = solving_chain.solve_via_data(\n\u001b[1;32m    753\u001b[0m             self, data, warm_start, verbose, kwargs)\n\u001b[0;32m--> 754\u001b[0;31m         \u001b[0mself\u001b[0m\u001b[0;34m.\u001b[0m\u001b[0munpack_results\u001b[0m\u001b[0;34m(\u001b[0m\u001b[0msolution\u001b[0m\u001b[0;34m,\u001b[0m \u001b[0msolving_chain\u001b[0m\u001b[0;34m,\u001b[0m \u001b[0minverse_data\u001b[0m\u001b[0;34m)\u001b[0m\u001b[0;34m\u001b[0m\u001b[0;34m\u001b[0m\u001b[0m\n\u001b[0m\u001b[1;32m    755\u001b[0m         \u001b[0;32mreturn\u001b[0m \u001b[0mself\u001b[0m\u001b[0;34m.\u001b[0m\u001b[0mvalue\u001b[0m\u001b[0;34m\u001b[0m\u001b[0;34m\u001b[0m\u001b[0m\n\u001b[1;32m    756\u001b[0m \u001b[0;34m\u001b[0m\u001b[0m\n",
      "\u001b[0;32m/usr/local/lib/python3.8/site-packages/cvxpy/problems/problem.py\u001b[0m in \u001b[0;36munpack_results\u001b[0;34m(self, solution, chain, inverse_data)\u001b[0m\n\u001b[1;32m   1064\u001b[0m             )\n\u001b[1;32m   1065\u001b[0m         \u001b[0;32mif\u001b[0m \u001b[0msolution\u001b[0m\u001b[0;34m.\u001b[0m\u001b[0mstatus\u001b[0m \u001b[0;32min\u001b[0m \u001b[0ms\u001b[0m\u001b[0;34m.\u001b[0m\u001b[0mERROR\u001b[0m\u001b[0;34m:\u001b[0m\u001b[0;34m\u001b[0m\u001b[0;34m\u001b[0m\u001b[0m\n\u001b[0;32m-> 1066\u001b[0;31m             raise error.SolverError(\n\u001b[0m\u001b[1;32m   1067\u001b[0m                     \u001b[0;34m\"Solver '%s' failed. \"\u001b[0m \u001b[0;34m%\u001b[0m \u001b[0mchain\u001b[0m\u001b[0;34m.\u001b[0m\u001b[0msolver\u001b[0m\u001b[0;34m.\u001b[0m\u001b[0mname\u001b[0m\u001b[0;34m(\u001b[0m\u001b[0;34m)\u001b[0m \u001b[0;34m+\u001b[0m\u001b[0;34m\u001b[0m\u001b[0;34m\u001b[0m\u001b[0m\n\u001b[1;32m   1068\u001b[0m                     \u001b[0;34m\"Try another solver, or solve with verbose=True for more \"\u001b[0m\u001b[0;34m\u001b[0m\u001b[0;34m\u001b[0m\u001b[0m\n",
      "\u001b[0;31mSolverError\u001b[0m: Solver 'SCS' failed. Try another solver, or solve with verbose=True for more information."
     ]
    }
   ],
   "source": [
    "corrupt_classifier = cl.MyClassifier(10, 784)\n",
    "corrupt_classifier.train(0.4, x_train, y_train)"
   ]
  },
  {
   "cell_type": "code",
   "execution_count": 147,
   "metadata": {},
   "outputs": [],
   "source": [
    "train_classes = corrupt_classifier.classify(x_train)\n",
    "test_classes = corrupt_classifier.classify(x_test)"
   ]
  },
  {
   "cell_type": "code",
   "execution_count": 148,
   "metadata": {},
   "outputs": [],
   "source": [
    "# Compute the accuracy for the classifications\n",
    "train_accuracy = sum(abs(train_classes == y_train)) / len(y_train)\n",
    "test_accuracy = sum(abs(test_classes == y_test)) / len(y_test)"
   ]
  },
  {
   "cell_type": "code",
   "execution_count": 149,
   "metadata": {},
   "outputs": [
    {
     "data": {
      "text/plain": [
       "0.9033"
      ]
     },
     "execution_count": 149,
     "metadata": {},
     "output_type": "execute_result"
    }
   ],
   "source": [
    "train_accuracy"
   ]
  },
  {
   "cell_type": "code",
   "execution_count": null,
   "metadata": {},
   "outputs": [],
   "source": [
    "test_ac"
   ]
  },
  {
   "cell_type": "code",
   "execution_count": null,
   "metadata": {},
   "outputs": [],
   "source": [
    "corrupt_classes_4 = corrupt_classifier.classify(corrupt_images_4)\n",
    "corrupt_classes_6 = corrupt_classifier.classify(corrupt_images_6)\n",
    "corrupt_classes_8 = corrupt_classifier.classify(corrupt_images_8)"
   ]
  },
  {
   "cell_type": "code",
   "execution_count": 71,
   "metadata": {},
   "outputs": [
    {
     "data": {
      "text/plain": [
       "<matplotlib.image.AxesImage at 0x165ec111a88>"
      ]
     },
     "execution_count": 71,
     "metadata": {},
     "output_type": "execute_result"
    },
    {
     "data": {
      "image/png": "[encoded data removed]",
      "text/plain": [
       "<Figure size 432x288 with 1 Axes>"
      ]
     },
     "metadata": {
      "needs_background": "light"
     },
     "output_type": "display_data"
    }
   ],
   "source": [
    "plt.figure()\n",
    "plt.imshow(corrupt_images[0])"
   ]
  },
  {
   "cell_type": "code",
   "execution_count": 46,
   "metadata": {
    "scrolled": true
   },
   "outputs": [
    {
     "data": {
      "text/plain": [
       "array([[[0., 0., 0., ..., 0., 0., 0.],\n",
       "        [0., 0., 0., ..., 0., 0., 0.],\n",
       "        [0., 0., 0., ..., 0., 0., 0.],\n",
       "        ...,\n",
       "        [0., 0., 0., ..., 0., 0., 0.],\n",
       "        [0., 0., 0., ..., 0., 0., 0.],\n",
       "        [0., 0., 0., ..., 0., 0., 0.]],\n",
       "\n",
       "       [[0., 0., 0., ..., 0., 0., 0.],\n",
       "        [0., 0., 0., ..., 0., 0., 0.],\n",
       "        [0., 0., 0., ..., 0., 0., 0.],\n",
       "        ...,\n",
       "        [0., 0., 0., ..., 0., 0., 0.],\n",
       "        [0., 0., 0., ..., 0., 0., 0.],\n",
       "        [0., 0., 0., ..., 0., 0., 0.]],\n",
       "\n",
       "       [[0., 0., 0., ..., 0., 0., 0.],\n",
       "        [0., 0., 0., ..., 0., 0., 0.],\n",
       "        [0., 0., 0., ..., 0., 0., 0.],\n",
       "        ...,\n",
       "        [0., 0., 0., ..., 0., 0., 0.],\n",
       "        [0., 0., 0., ..., 0., 0., 0.],\n",
       "        [0., 0., 0., ..., 0., 0., 0.]],\n",
       "\n",
       "       ...,\n",
       "\n",
       "       [[0., 0., 0., ..., 0., 0., 0.],\n",
       "        [0., 0., 0., ..., 0., 0., 0.],\n",
       "        [0., 0., 0., ..., 0., 0., 0.],\n",
       "        ...,\n",
       "        [0., 0., 0., ..., 0., 0., 0.],\n",
       "        [0., 0., 0., ..., 0., 0., 0.],\n",
       "        [0., 0., 0., ..., 0., 0., 0.]],\n",
       "\n",
       "       [[0., 0., 0., ..., 0., 0., 0.],\n",
       "        [0., 0., 0., ..., 0., 0., 0.],\n",
       "        [0., 0., 0., ..., 0., 0., 0.],\n",
       "        ...,\n",
       "        [0., 0., 0., ..., 0., 0., 0.],\n",
       "        [0., 0., 0., ..., 0., 0., 0.],\n",
       "        [0., 0., 0., ..., 0., 0., 0.]],\n",
       "\n",
       "       [[0., 0., 0., ..., 0., 0., 0.],\n",
       "        [0., 0., 0., ..., 0., 0., 0.],\n",
       "        [0., 0., 0., ..., 0., 0., 0.],\n",
       "        ...,\n",
       "        [0., 0., 0., ..., 0., 0., 0.],\n",
       "        [0., 0., 0., ..., 0., 0., 0.],\n",
       "        [0., 0., 0., ..., 0., 0., 0.]]])"
      ]
     },
     "execution_count": 46,
     "metadata": {},
     "output_type": "execute_result"
    }
   ],
   "source": [
    "x_test_masked"
   ]
  },
  {
   "cell_type": "code",
   "execution_count": 64,
   "metadata": {},
   "outputs": [],
   "source": [
    "corrupt_x_test_masked = cl.apply_error(x_test_masked, 0.6, 10)\n"
   ]
  },
  {
   "cell_type": "code",
   "execution_count": 65,
   "metadata": {},
   "outputs": [
    {
     "data": {
      "text/plain": [
       "(21150, 28, 28)"
      ]
     },
     "execution_count": 65,
     "metadata": {},
     "output_type": "execute_result"
    }
   ],
   "source": [
    "corrupt_x_test_masked.shape"
   ]
  },
  {
   "cell_type": "code",
   "execution_count": 69,
   "metadata": {},
   "outputs": [
    {
     "data": {
      "text/plain": [
       "(600000,)"
      ]
     },
     "execution_count": 69,
     "metadata": {},
     "output_type": "execute_result"
    }
   ],
   "source": [
    "np.tile(y_train, (10,)).shape"
   ]
  },
  {
   "cell_type": "code",
   "execution_count": 49,
   "metadata": {},
   "outputs": [],
   "source": [
    "corrupt_x_test_masked = apply_error(x_test_masked, 0.6)\n",
    "corrupt_test_classes = classifier.classify(corrupt_x_test_masked)\n",
    "corrupt_test_accuracy = sum(abs(corrupt_test_classes == y_test_masked)) / len(y_test_masked)"
   ]
  },
  {
   "cell_type": "code",
   "execution_count": 50,
   "metadata": {},
   "outputs": [
    {
     "data": {
      "text/plain": [
       "<matplotlib.image.AxesImage at 0x27aa0609b08>"
      ]
     },
     "execution_count": 50,
     "metadata": {},
     "output_type": "execute_result"
    },
    {
     "data": {
      "image/png": "[encoded data removed]",
      "text/plain": [
       "<Figure size 432x288 with 1 Axes>"
      ]
     },
     "metadata": {
      "needs_background": "light"
     },
     "output_type": "display_data"
    }
   ],
   "source": [
    "plt.imshow(x_test_masked[0])"
   ]
  },
  {
   "cell_type": "code",
   "execution_count": 51,
   "metadata": {},
   "outputs": [
    {
     "data": {
      "text/plain": [
       "<matplotlib.image.AxesImage at 0x27b4ab5e848>"
      ]
     },
     "execution_count": 51,
     "metadata": {},
     "output_type": "execute_result"
    },
    {
     "data": {
      "image/png": "[encoded data removed]",
      "text/plain": [
       "<Figure size 432x288 with 1 Axes>"
      ]
     },
     "metadata": {
      "needs_background": "light"
     },
     "output_type": "display_data"
    }
   ],
   "source": [
    "plt.imshow(corrupt_x_test_masked[0])"
   ]
  },
  {
   "cell_type": "code",
   "execution_count": 53,
   "metadata": {},
   "outputs": [
    {
     "data": {
      "text/plain": [
       "0.7867612293144208"
      ]
     },
     "execution_count": 53,
     "metadata": {},
     "output_type": "execute_result"
    }
   ],
   "source": [
    "corrupt_test_accuracy"
   ]
  }
 ],
 "metadata": {
  "kernelspec": {
   "name": "Python 3.8.6 64-bit",
   "display_name": "Python 3.8.6 64-bit",
   "metadata": {
    "interpreter": {
     "hash": "0adcc2737ebf6a4a119f135174df96668767fca1ef1112612db5ecadf2b6d608"
    }
   }
  },
  "language_info": {
   "codemirror_mode": {
    "name": "ipython",
    "version": 3
   },
   "file_extension": ".py",
   "mimetype": "text/x-python",
   "name": "python",
   "nbconvert_exporter": "python",
   "pygments_lexer": "ipython3",
   "version": "3.8.6-final"
  }
 },
 "nbformat": 4,
 "nbformat_minor": 2
}