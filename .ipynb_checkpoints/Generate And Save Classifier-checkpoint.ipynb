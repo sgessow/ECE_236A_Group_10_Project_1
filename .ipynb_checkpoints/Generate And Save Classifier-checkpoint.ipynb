{
 "cells": [
  {
   "cell_type": "code",
   "execution_count": 1,
   "metadata": {},
   "outputs": [
    {
     "name": "stdout",
     "output_type": "stream",
     "text": [
      "Runing Classifier:  1 for  (0.0, 1.0)\n",
      "Runing Classifier:  2 for  (0.0, 2.0)\n",
      "Runing Classifier:  3 for  (0.0, 3.0)\n",
      "Runing Classifier:  4 for  (0.0, 4.0)\n",
      "Runing Classifier:  5 for  (0.0, 5.0)\n",
      "Runing Classifier:  6 for  (0.0, 6.0)\n",
      "Runing Classifier:  7 for  (0.0, 7.0)\n",
      "Runing Classifier:  8 for  (0.0, 8.0)\n",
      "Runing Classifier:  9 for  (0.0, 9.0)\n",
      "Runing Classifier:  10 for  (1.0, 2.0)\n",
      "Runing Classifier:  11 for  (1.0, 3.0)\n",
      "Runing Classifier:  12 for  (1.0, 4.0)\n",
      "Runing Classifier:  13 for  (1.0, 5.0)\n",
      "Runing Classifier:  14 for  (1.0, 6.0)\n",
      "Runing Classifier:  15 for  (1.0, 7.0)\n",
      "Runing Classifier:  16 for  (1.0, 8.0)\n",
      "Runing Classifier:  17 for  (1.0, 9.0)\n",
      "Runing Classifier:  18 for  (2.0, 3.0)\n",
      "Runing Classifier:  19 for  (2.0, 4.0)\n",
      "Runing Classifier:  20 for  (2.0, 5.0)\n",
      "Runing Classifier:  21 for  (2.0, 6.0)\n",
      "Runing Classifier:  22 for  (2.0, 7.0)\n",
      "Runing Classifier:  23 for  (2.0, 8.0)\n",
      "Runing Classifier:  24 for  (2.0, 9.0)\n",
      "Runing Classifier:  25 for  (3.0, 4.0)\n",
      "Runing Classifier:  26 for  (3.0, 5.0)\n",
      "Runing Classifier:  27 for  (3.0, 6.0)\n",
      "Runing Classifier:  28 for  (3.0, 7.0)\n",
      "Runing Classifier:  29 for  (3.0, 8.0)\n",
      "Runing Classifier:  30 for  (3.0, 9.0)\n",
      "Runing Classifier:  31 for  (4.0, 5.0)\n",
      "Runing Classifier:  32 for  (4.0, 6.0)\n",
      "Runing Classifier:  33 for  (4.0, 7.0)\n",
      "Runing Classifier:  34 for  (4.0, 8.0)\n",
      "Runing Classifier:  35 for  (4.0, 9.0)\n",
      "Runing Classifier:  36 for  (5.0, 6.0)\n",
      "Runing Classifier:  37 for  (5.0, 7.0)\n",
      "Runing Classifier:  38 for  (5.0, 8.0)\n",
      "Runing Classifier:  39 for  (5.0, 9.0)\n",
      "Runing Classifier:  40 for  (6.0, 7.0)\n",
      "Runing Classifier:  41 for  (6.0, 8.0)\n",
      "Runing Classifier:  42 for  (6.0, 9.0)\n",
      "Runing Classifier:  43 for  (7.0, 8.0)\n",
      "Runing Classifier:  44 for  (7.0, 9.0)\n",
      "Runing Classifier:  45 for  (8.0, 9.0)\n",
      "Done  training, total time = 543.72  seconds\n"
     ]
    },
    {
     "ename": "NameError",
     "evalue": "name 'np' is not defined",
     "output_type": "error",
     "traceback": [
      "\u001b[0;31m---------------------------------------------------------------------------\u001b[0m",
      "\u001b[0;31mNameError\u001b[0m                                 Traceback (most recent call last)",
      "\u001b[0;32m<ipython-input-1-297be53c03bd>\u001b[0m in \u001b[0;36m<module>\u001b[0;34m()\u001b[0m\n\u001b[1;32m     35\u001b[0m \u001b[0mresults\u001b[0m \u001b[0;34m=\u001b[0m \u001b[0mClass10\u001b[0m\u001b[0;34m.\u001b[0m\u001b[0mclassify\u001b[0m\u001b[0;34m(\u001b[0m\u001b[0mtest_data\u001b[0m\u001b[0;34m)\u001b[0m\u001b[0;34m\u001b[0m\u001b[0;34m\u001b[0m\u001b[0m\n\u001b[1;32m     36\u001b[0m \u001b[0;34m\u001b[0m\u001b[0m\n\u001b[0;32m---> 37\u001b[0;31m \u001b[0maccuracy\u001b[0m \u001b[0;34m=\u001b[0m \u001b[0mnp\u001b[0m\u001b[0;34m.\u001b[0m\u001b[0msum\u001b[0m\u001b[0;34m(\u001b[0m\u001b[0mabs\u001b[0m\u001b[0;34m(\u001b[0m\u001b[0mresults\u001b[0m \u001b[0;34m==\u001b[0m \u001b[0mtest_labels\u001b[0m\u001b[0;34m.\u001b[0m\u001b[0mT\u001b[0m\u001b[0;34m)\u001b[0m\u001b[0;34m)\u001b[0m\u001b[0;34m/\u001b[0m\u001b[0mlen\u001b[0m\u001b[0;34m(\u001b[0m\u001b[0mtest_labels\u001b[0m\u001b[0;34m)\u001b[0m \u001b[0;34m*\u001b[0m \u001b[0;36m100\u001b[0m\u001b[0;34m\u001b[0m\u001b[0;34m\u001b[0m\u001b[0m\n\u001b[0m\u001b[1;32m     38\u001b[0m \u001b[0mprint\u001b[0m\u001b[0;34m(\u001b[0m\u001b[0;34m'Test Data Success 0-9 is {}%...'\u001b[0m\u001b[0;34m.\u001b[0m\u001b[0mformat\u001b[0m\u001b[0;34m(\u001b[0m\u001b[0mround\u001b[0m\u001b[0;34m(\u001b[0m\u001b[0maccuracy\u001b[0m\u001b[0;34m,\u001b[0m\u001b[0;36m1\u001b[0m\u001b[0;34m)\u001b[0m\u001b[0;34m)\u001b[0m\u001b[0;34m)\u001b[0m\u001b[0;34m\u001b[0m\u001b[0;34m\u001b[0m\u001b[0m\n",
      "\u001b[0;31mNameError\u001b[0m: name 'np' is not defined"
     ]
    }
   ],
   "source": [
    "from MyClassifier_10 import MyClassifier\n",
    "\n",
    "# CSV Importer\n",
    "from numpy import genfromtxt\n",
    "\n",
    "import dill\n",
    "\n",
    "\n",
    "\n",
    "### Setup ##########\n",
    "# Load Data from CSV, change path to train csv\n",
    "trainData = genfromtxt('/Users/sunaybhat/Dropbox/UCLA/Fall 2020/mnist_train.csv', delimiter=',')\n",
    "testData = genfromtxt('mnist_test.csv', delimiter=',')\n",
    "\n",
    "# Get Rid of Headers\n",
    "trainData = trainData[1:]\n",
    "testData = testData[1:]\n",
    "\n",
    "#############\n",
    "\n",
    "### All Digits #############\n",
    "filteredData = trainData[:]\n",
    "train_data = filteredData[:,1:]\n",
    "train_label = filteredData[:,0]\n",
    "Class10 = MyClassifier(10,784)\n",
    "Class10.train(0.2,train_data,train_label)\n",
    "\n",
    "# Save Classifier\n",
    "dill.dump_session('TrainedClassifier.pkl')\n"
   ]
  },
  {
   "cell_type": "code",
   "execution_count": 2,
   "metadata": {},
   "outputs": [
    {
     "name": "stdout",
     "output_type": "stream",
     "text": [
      "Test Data Success 0-9 is 92.4%...\n"
     ]
    }
   ],
   "source": [
    "# Let's test it while your here\n",
    "import numpy as np\n",
    "\n",
    "test_data = testData[:,1:]\n",
    "test_labels = testData[:,0]\n",
    "test_labels = test_labels.reshape(test_labels.shape[0],1)\n",
    "results = Class10.classify(test_data)\n",
    "\n",
    "accuracy = np.sum(abs(results == test_labels.T))/len(test_labels) * 100\n",
    "print('Test Data Success 0-9 is {}%...'.format(round(accuracy,1)))"
   ]
  }
 ],
 "metadata": {
  "kernelspec": {
   "display_name": "Python 3",
   "language": "python",
   "name": "python3"
  },
  "language_info": {
   "codemirror_mode": {
    "name": "ipython",
    "version": 3
   },
   "file_extension": ".py",
   "mimetype": "text/x-python",
   "name": "python",
   "nbconvert_exporter": "python",
   "pygments_lexer": "ipython3",
   "version": "3.7.5"
  }
 },
 "nbformat": 4,
 "nbformat_minor": 4
}
