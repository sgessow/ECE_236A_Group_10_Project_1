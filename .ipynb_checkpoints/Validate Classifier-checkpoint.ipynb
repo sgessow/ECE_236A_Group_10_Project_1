{
 "cells": [
  {
   "cell_type": "code",
   "execution_count": 1,
   "metadata": {},
   "outputs": [],
   "source": [
    "import matplotlib.pyplot as plt\n",
    "import time\n",
    "import numpy as np\n",
    "from importlib import reload"
   ]
  },
  {
   "cell_type": "code",
   "execution_count": 2,
   "metadata": {},
   "outputs": [],
   "source": [
    "# Read in the training data\n",
    "train_data = np.genfromtxt('Data/mnist_train.csv', delimiter=',')\n",
    "# The first row is the headers so we drop it\n",
    "train_data = train_data[1:]"
   ]
  },
  {
   "cell_type": "code",
   "execution_count": 3,
   "metadata": {},
   "outputs": [],
   "source": [
    "# Read in the testing data\n",
    "test_data = np.genfromtxt('Data/mnist_test.csv', delimiter=',')\n",
    "# The first row is the headers so we drop it\n",
    "test_data = test_data[1:]"
   ]
  },
  {
   "cell_type": "code",
   "execution_count": 4,
   "metadata": {},
   "outputs": [
    {
     "name": "stdout",
     "output_type": "stream",
     "text": [
      "Runing Classifier:  1 for  (1.0, 7.0)\n",
      "Done  training, yay!...\n",
      "Took 31.684 seconds to train\n"
     ]
    }
   ],
   "source": [
    "# Train 1 and 7 Classifer\n",
    "digit_mask = (train_data[:, 0] == 1) | (train_data[:, 0] == 7)  # Filter Digits Down\n",
    "filteredData = train_data[digit_mask, :]   \n",
    "x_train = filteredData[:, 1:]    \n",
    "y_train = filteredData[:, 0]\n",
    "\n",
    "digit_mask = (test_data[:, 0] == 1) | (test_data[:, 0] == 7)  # Filter Digits Down    \n",
    "filteredData = test_data[digit_mask, :]   \n",
    "x_test = filteredData[:, 1:]    \n",
    "y_test = filteredData[:, 0]\n",
    "\n",
    "import MyClassifier_10 as cl\n",
    "reload(cl)\n",
    "\n",
    "Classify_1and7 = cl.MyClassifier(2, 784)\n",
    "start_time = time.time()\n",
    "Classify_1and7.train(0.6, x_train, y_train)\n",
    "tottime = time.time() - start_time\n",
    "print('Took {:.3f} seconds to train'.format(tottime))"
   ]
  },
  {
   "cell_type": "code",
   "execution_count": 5,
   "metadata": {},
   "outputs": [
    {
     "name": "stdout",
     "output_type": "stream",
     "text": [
      "Accuracy for average all test data sets is:  [99.4  99.18 98.8  97.42]\n"
     ]
    },
    {
     "data": {
      "text/plain": [
       "Text(0.5, 1.0, 'Single Classifier 1 and 7 Results')"
      ]
     },
     "execution_count": 5,
     "metadata": {},
     "output_type": "execute_result"
    },
    {
     "data": {
      "image/png": "[encoded data removed]",
      "text/plain": [
       "<Figure size 432x288 with 1 Axes>"
      ]
     },
     "metadata": {
      "needs_background": "light"
     },
     "output_type": "display_data"
    }
   ],
   "source": [
    "# Test 1 and 7 Classifer 10 times\n",
    "all_accuracy = list()\n",
    "for i in range(0,11):\n",
    "    accuracy = list()\n",
    "    results = Classify_1and7.classify(x_test)\n",
    "    correct = results == y_test\n",
    "    accuracy.append(np.sum(correct) / len(y_test) * 100)\n",
    "\n",
    "    results = Classify_1and7.TestCorrupted(0.4,x_test)\n",
    "    correct = results == y_test\n",
    "    accuracy.append(np.sum(correct) / len(y_test) * 100)\n",
    "\n",
    "    results = Classify_1and7.TestCorrupted(0.6,x_test)\n",
    "    correct = results == y_test\n",
    "    accuracy.append(np.sum(correct) / len(y_test) * 100)\n",
    "\n",
    "    results = Classify_1and7.TestCorrupted(0.8,x_test)\n",
    "    correct = results == y_test\n",
    "    accuracy.append(np.sum(correct) / len(y_test) * 100)\n",
    "    \n",
    "    all_accuracy.append(accuracy)\n",
    "\n",
    "avg_accuracy = np.nanmean(all_accuracy,axis=0)\n",
    "\n",
    "print('Accuracy for average all test data sets is: ', np.around(avg_accuracy,2))\n",
    "\n",
    "x = [0, 0.4, 0.6, 0.8]\n",
    "\n",
    "# Plot Results\n",
    "plt.plot(x,avg_accuracy, color='olive', linewidth=3, label=\"1 and 7\")\n",
    "plt.legend()\n",
    "plt.grid()\n",
    "\n",
    "plt.xlabel('Test Data Corruption Level (p)',fontsize = 13,fontweight='bold')\n",
    "plt.ylabel('Percent Accuracy (%)',fontsize = 13,fontweight='bold')\n",
    "plt.title('Single Classifier 1 and 7 Results',fontsize = 16,fontweight='bold')\n"
   ]
  },
  {
   "cell_type": "code",
   "execution_count": 16,
   "metadata": {},
   "outputs": [
    {
     "name": "stdout",
     "output_type": "stream",
     "text": [
      "Runing Classifier:  1 for  (0.0, 1.0)\n",
      "Runing Classifier:  2 for  (0.0, 2.0)\n",
      "Runing Classifier:  3 for  (0.0, 3.0)\n",
      "Runing Classifier:  4 for  (0.0, 4.0)\n",
      "Runing Classifier:  5 for  (0.0, 5.0)\n",
      "Runing Classifier:  6 for  (0.0, 6.0)\n",
      "Runing Classifier:  7 for  (0.0, 7.0)\n",
      "Runing Classifier:  8 for  (0.0, 8.0)\n",
      "Runing Classifier:  9 for  (0.0, 9.0)\n",
      "Runing Classifier:  10 for  (1.0, 2.0)\n",
      "Runing Classifier:  11 for  (1.0, 3.0)\n",
      "Runing Classifier:  12 for  (1.0, 4.0)\n",
      "Runing Classifier:  13 for  (1.0, 5.0)\n",
      "Runing Classifier:  14 for  (1.0, 6.0)\n",
      "Runing Classifier:  15 for  (1.0, 7.0)\n",
      "Runing Classifier:  16 for  (1.0, 8.0)\n",
      "Runing Classifier:  17 for  (1.0, 9.0)\n",
      "Runing Classifier:  18 for  (2.0, 3.0)\n",
      "Runing Classifier:  19 for  (2.0, 4.0)\n",
      "Runing Classifier:  20 for  (2.0, 5.0)\n",
      "Runing Classifier:  21 for  (2.0, 6.0)\n",
      "Runing Classifier:  22 for  (2.0, 7.0)\n",
      "Runing Classifier:  23 for  (2.0, 8.0)\n",
      "Runing Classifier:  24 for  (2.0, 9.0)\n",
      "Runing Classifier:  25 for  (3.0, 4.0)\n",
      "Runing Classifier:  26 for  (3.0, 5.0)\n",
      "Runing Classifier:  27 for  (3.0, 6.0)\n",
      "Runing Classifier:  28 for  (3.0, 7.0)\n",
      "Runing Classifier:  29 for  (3.0, 8.0)\n",
      "Runing Classifier:  30 for  (3.0, 9.0)\n",
      "Runing Classifier:  31 for  (4.0, 5.0)\n",
      "Runing Classifier:  32 for  (4.0, 6.0)\n",
      "Runing Classifier:  33 for  (4.0, 7.0)\n",
      "Runing Classifier:  34 for  (4.0, 8.0)\n",
      "Runing Classifier:  35 for  (4.0, 9.0)\n",
      "Runing Classifier:  36 for  (5.0, 6.0)\n",
      "Runing Classifier:  37 for  (5.0, 7.0)\n",
      "Runing Classifier:  38 for  (5.0, 8.0)\n",
      "Runing Classifier:  39 for  (5.0, 9.0)\n",
      "Runing Classifier:  40 for  (6.0, 7.0)\n",
      "Runing Classifier:  41 for  (6.0, 8.0)\n",
      "Runing Classifier:  42 for  (6.0, 9.0)\n"
     ]
    },
    {
     "name": "stderr",
     "output_type": "stream",
     "text": [
      "/Users/sunaybhat/.conda/envs/PythonPrograms/lib/python3.7/site-packages/cvxpy/problems/problem.py:1061: UserWarning: Solution may be inaccurate. Try another solver, adjusting the solver settings, or solve with verbose=True for more information.\n",
      "  \"Solution may be inaccurate. Try another solver, \"\n"
     ]
    },
    {
     "name": "stdout",
     "output_type": "stream",
     "text": [
      "Runing Classifier:  43 for  (7.0, 8.0)\n",
      "Runing Classifier:  44 for  (7.0, 9.0)\n",
      "Runing Classifier:  45 for  (8.0, 9.0)\n",
      "Done  training, yay!...\n",
      "Took 1444.927 seconds to train\n"
     ]
    }
   ],
   "source": [
    "# Train 10 Classifier\n",
    "reload(cl)\n",
    "x_train = train_data[:,1:]\n",
    "y_train = train_data[:,0]\n",
    "x_test = test_data[:,1:]\n",
    "y_test = test_data[:,0]\n",
    "\n",
    "Classify_10 = cl.MyClassifier(10, 784)\n",
    "start_time = time.time()\n",
    "Classify_10.train(0.6, x_train, y_train)\n",
    "tottime = time.time() - start_time\n",
    "print('Took {:.3f} minutes to train'.format(tottime/60))"
   ]
  },
  {
   "cell_type": "code",
   "execution_count": 18,
   "metadata": {},
   "outputs": [
    {
     "name": "stdout",
     "output_type": "stream",
     "text": [
      "Accuracy for all test data sets is:  [92.9  91.52 87.96 78.46]\n"
     ]
    },
    {
     "data": {
      "text/plain": [
       "Text(0.5, 1.0, 'All 10 Classifier Results')"
      ]
     },
     "execution_count": 18,
     "metadata": {},
     "output_type": "execute_result"
    },
    {
     "data": {
      "image/png": "[encoded data removed]",
      "text/plain": [
       "<Figure size 432x288 with 1 Axes>"
      ]
     },
     "metadata": {
      "needs_background": "light"
     },
     "output_type": "display_data"
    }
   ],
   "source": [
    "# Test All 10 Classifer\n",
    "accuracy = list()\n",
    "results = Classify_10.classify(x_test)\n",
    "correct = results == y_test\n",
    "accuracy.append(np.sum(correct) / len(y_test) * 100)\n",
    "\n",
    "results = Classify_10.TestCorrupted(0.4,x_test)\n",
    "correct = results == y_test\n",
    "accuracy.append(np.sum(correct) / len(y_test) * 100)\n",
    "\n",
    "results = Classify_10.TestCorrupted(0.6,x_test)\n",
    "correct = results == y_test\n",
    "accuracy.append(np.sum(correct) / len(y_test) * 100)\n",
    "\n",
    "results = Classify_10.TestCorrupted(0.8,x_test)\n",
    "correct = results == y_test\n",
    "accuracy.append(np.sum(correct) / len(y_test) * 100)\n",
    "\n",
    "print('Accuracy for all test data sets is: ', np.around(accuracy,2))\n",
    "\n",
    "x = [0, 0.4, 0.6, 0.8]\n",
    "\n",
    "# Plot Results\n",
    "plt.plot(x,accuracy, color='olive', linewidth=3, label=\"All 10 Classifer\")\n",
    "plt.legend()\n",
    "plt.grid()\n",
    "\n",
    "plt.xlabel('Test Data Corruption Level (p)',fontsize = 13,fontweight='bold')\n",
    "plt.ylabel('Percent Accuracy (%)',fontsize = 13,fontweight='bold')\n",
    "plt.title('All 10 Classifier Results',fontsize = 16,fontweight='bold')\n",
    "\n"
   ]
  },
  {
   "cell_type": "code",
   "execution_count": null,
   "metadata": {},
   "outputs": [],
   "source": []
  }
 ],
 "metadata": {
  "kernelspec": {
   "display_name": "Python 3",
   "language": "python",
   "name": "python3"
  },
  "language_info": {
   "codemirror_mode": {
    "name": "ipython",
    "version": 3
   },
   "file_extension": ".py",
   "mimetype": "text/x-python",
   "name": "python",
   "nbconvert_exporter": "python",
   "pygments_lexer": "ipython3",
   "version": "3.7.5"
  }
 },
 "nbformat": 4,
 "nbformat_minor": 4
}
