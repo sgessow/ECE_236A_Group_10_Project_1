{
 "cells": [
  {
   "cell_type": "code",
   "execution_count": 4,
   "metadata": {},
   "outputs": [
    {
     "name": "stdout",
     "output_type": "stream",
     "text": [
      "Runing Classifier:  1 for  (0.0, 1.0)\n",
      "Runing Classifier:  2 for  (0.0, 2.0)\n",
      "Runing Classifier:  3 for  (0.0, 3.0)\n",
      "Runing Classifier:  4 for  (0.0, 4.0)\n",
      "Runing Classifier:  5 for  (0.0, 5.0)\n",
      "Runing Classifier:  6 for  (0.0, 6.0)\n",
      "Runing Classifier:  7 for  (0.0, 7.0)\n",
      "Runing Classifier:  8 for  (0.0, 8.0)\n",
      "Runing Classifier:  9 for  (0.0, 9.0)\n",
      "Runing Classifier:  10 for  (1.0, 2.0)\n",
      "Runing Classifier:  11 for  (1.0, 3.0)\n",
      "Runing Classifier:  12 for  (1.0, 4.0)\n",
      "Runing Classifier:  13 for  (1.0, 5.0)\n",
      "Runing Classifier:  14 for  (1.0, 6.0)\n",
      "Runing Classifier:  15 for  (1.0, 7.0)\n",
      "Runing Classifier:  16 for  (1.0, 8.0)\n",
      "Runing Classifier:  17 for  (1.0, 9.0)\n",
      "Runing Classifier:  18 for  (2.0, 3.0)\n",
      "Runing Classifier:  19 for  (2.0, 4.0)\n",
      "Runing Classifier:  20 for  (2.0, 5.0)\n",
      "Runing Classifier:  21 for  (2.0, 6.0)\n",
      "Runing Classifier:  22 for  (2.0, 7.0)\n",
      "Runing Classifier:  23 for  (2.0, 8.0)\n",
      "Runing Classifier:  24 for  (2.0, 9.0)\n",
      "Runing Classifier:  25 for  (3.0, 4.0)\n",
      "Runing Classifier:  26 for  (3.0, 5.0)\n",
      "Runing Classifier:  27 for  (3.0, 6.0)\n",
      "Runing Classifier:  28 for  (3.0, 7.0)\n",
      "Runing Classifier:  29 for  (3.0, 8.0)\n",
      "Runing Classifier:  30 for  (3.0, 9.0)\n",
      "Runing Classifier:  31 for  (4.0, 5.0)\n",
      "Runing Classifier:  32 for  (4.0, 6.0)\n",
      "Runing Classifier:  33 for  (4.0, 7.0)\n",
      "Runing Classifier:  34 for  (4.0, 8.0)\n",
      "Runing Classifier:  35 for  (4.0, 9.0)\n",
      "Runing Classifier:  36 for  (5.0, 6.0)\n",
      "Runing Classifier:  37 for  (5.0, 7.0)\n",
      "Runing Classifier:  38 for  (5.0, 8.0)\n",
      "Runing Classifier:  39 for  (5.0, 9.0)\n",
      "Runing Classifier:  40 for  (6.0, 7.0)\n",
      "Runing Classifier:  41 for  (6.0, 8.0)\n",
      "Runing Classifier:  42 for  (6.0, 9.0)\n",
      "Runing Classifier:  43 for  (7.0, 8.0)\n",
      "Runing Classifier:  44 for  (7.0, 9.0)\n",
      "Runing Classifier:  45 for  (8.0, 9.0)\n",
      "Done  training, total time = 550.99  seconds\n"
     ]
    }
   ],
   "source": [
    "from MyClassifier_10 import MyClassifier\n",
    "\n",
    "# CSV Importer\n",
    "from numpy import genfromtxt\n",
    "import dill\n",
    "\n",
    "\n",
    "\n",
    "### Setup ##########\n",
    "# Load Data from CSV, change path to train csv\n",
    "trainData = genfromtxt('/Users/sunaybhat/Dropbox/UCLA/Fall 2020/mnist_train.csv', delimiter=',')\n",
    "# Get Rid of Headers\n",
    "trainData = trainData[1:]\n",
    "\n",
    "#############\n",
    "\n",
    "### All Digits #############\n",
    "train_data = trainData[:,1:]\n",
    "train_label = trainData[:,0]\n",
    "Class10 = MyClassifier(10,784)\n",
    "Class10.train(0.2,train_data,train_label)\n",
    "\n",
    "# Save Classifier\n",
    "dill.dump_session('TrainedClassifier.pkl')\n"
   ]
  },
  {
   "cell_type": "code",
   "execution_count": null,
   "metadata": {},
   "outputs": [],
   "source": []
  }
 ],
 "metadata": {
  "kernelspec": {
   "display_name": "Python 3",
   "language": "python",
   "name": "python3"
  },
  "language_info": {
   "codemirror_mode": {
    "name": "ipython",
    "version": 3
   },
   "file_extension": ".py",
   "mimetype": "text/x-python",
   "name": "python",
   "nbconvert_exporter": "python",
   "pygments_lexer": "ipython3",
   "version": "3.7.5"
  }
 },
 "nbformat": 4,
 "nbformat_minor": 4
}
