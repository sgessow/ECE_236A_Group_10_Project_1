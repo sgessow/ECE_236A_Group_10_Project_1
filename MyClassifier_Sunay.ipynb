{
 "cells": [
  {
   "cell_type": "code",
   "execution_count": 1,
   "metadata": {},
   "outputs": [],
   "source": [
    "# Import Classifier From file\n",
    "from MyClassifier_10 import MyClassifier\n",
    "\n",
    "import numpy as np\n",
    "import cvxpy as cp\n",
    "import itertools\n",
    "import time\n",
    "\n",
    "# CSV Importer\n",
    "from numpy import genfromtxt\n",
    "# Image Viewer\n",
    "from PIL import Image, ImageOps"
   ]
  },
  {
   "cell_type": "code",
   "execution_count": null,
   "metadata": {},
   "outputs": [],
   "source": []
  },
  {
   "cell_type": "code",
   "execution_count": 2,
   "metadata": {},
   "outputs": [],
   "source": [
    "# Load Data from CSV\n",
    "trainData = genfromtxt('/Users/sunaybhat/Dropbox/UCLA/Fall 2020/mnist_train.csv', delimiter=',')\n",
    "testData = genfromtxt('mnist_test.csv', delimiter=',')\n",
    "\n",
    "# Get Rid of Headers\n",
    "trainData = trainData[1:]\n",
    "testData = testData[1:]"
   ]
  },
  {
   "cell_type": "code",
   "execution_count": 3,
   "metadata": {},
   "outputs": [
    {
     "name": "stdout",
     "output_type": "stream",
     "text": [
      "Runing Classifier:  1\n",
      "Done  training, total time = 49.52  seconds\n",
      "Done Classification,  total time = 0.01  seconds\n",
      "Test Data Success 1 vs 7 is 99.2%...\n"
     ]
    }
   ],
   "source": [
    "### 1 and 7\n",
    "digit_mask = (trainData[:,0] == 1) | (trainData[:,0] == 7)\n",
    "filteredData = trainData[digit_mask,:]\n",
    "train_data = filteredData[:,1:]\n",
    "train_label = filteredData[:,0]\n",
    "Class1and7 = MyClassifier(2,784)\n",
    "Class1and7.train(0.2,train_data,train_label,time,itertools,np,cp)\n",
    "# Test\n",
    "digit_mask = (testData[:,0] == 1) | (testData[:,0] == 7)\n",
    "test_data = testData[digit_mask,:]\n",
    "test_labels = test_data[:,0]\n",
    "test_labels = test_labels.reshape(test_labels.shape[0],1)\n",
    "results = Class1and7.classify(test_data,time,np)\n",
    "\n",
    "accuracy = np.sum(abs(results == test_labels))/len(test_labels) * 100\n",
    "\n",
    "print('Test Data Success 1 vs 7 is {}%...'.format(round(accuracy,1)))"
   ]
  },
  {
   "cell_type": "code",
   "execution_count": 4,
   "metadata": {},
   "outputs": [
    {
     "name": "stdout",
     "output_type": "stream",
     "text": [
      "Runing Classifier:  1\n",
      "Done  training, total time = 57.43  seconds\n",
      "Done Classification,  total time = 0.01  seconds\n",
      "Test Data Success 1 vs 8 is 97.3%...\n"
     ]
    }
   ],
   "source": [
    "### 1 and 8\n",
    "digit_mask = (trainData[:,0] == 1) | (trainData[:,0] == 8)\n",
    "filteredData = trainData[digit_mask,:]\n",
    "train_data = filteredData[:,1:]\n",
    "train_label = filteredData[:,0]\n",
    "Class1and7 = MyClassifier(2,784)\n",
    "Class1and7.train(0.2,train_data,train_label,time,itertools,np,cp)\n",
    "# Test\n",
    "digit_mask = (testData[:,0] == 1) | (testData[:,0] == 8)\n",
    "test_data = testData[digit_mask,:]\n",
    "test_labels = test_data[:,0]\n",
    "test_labels = test_labels.reshape(test_labels.shape[0],1)\n",
    "results = Class1and7.classify(test_data,time,np)\n",
    "\n",
    "accuracy = np.sum(abs(results == test_labels))/len(test_labels) * 100\n",
    "\n",
    "print('Test Data Success 1 vs 8 is {}%...'.format(round(accuracy,1)))"
   ]
  },
  {
   "cell_type": "code",
   "execution_count": 5,
   "metadata": {},
   "outputs": [
    {
     "name": "stdout",
     "output_type": "stream",
     "text": [
      "Runing Classifier:  1\n",
      "Done  training, total time = 49.26  seconds\n",
      "Done Classification,  total time = 0.01  seconds\n",
      "Test Data Success 7 vs 8 is 98.8%...\n"
     ]
    }
   ],
   "source": [
    "### 7 and 8\n",
    "digit_mask = (trainData[:,0] == 7) | (trainData[:,0] == 8)\n",
    "filteredData = trainData[digit_mask,:]\n",
    "train_data = filteredData[:,1:]\n",
    "train_label = filteredData[:,0]\n",
    "Class1and7 = MyClassifier(2,784)\n",
    "Class1and7.train(0.2,train_data,train_label,time,itertools,np,cp)\n",
    "# Test\n",
    "digit_mask = (testData[:,0] == 7) | (testData[:,0] == 8)\n",
    "test_data = testData[digit_mask,:]\n",
    "test_labels = test_data[:,0]\n",
    "test_labels = test_labels.reshape(test_labels.shape[0],1)\n",
    "results = Class1and7.classify(test_data,time,np)\n",
    "\n",
    "accuracy = np.sum(abs(results == test_labels))/len(test_labels) * 100\n",
    "\n",
    "print('Test Data Success 7 vs 8 is {}%...'.format(round(accuracy,1)))"
   ]
  },
  {
   "cell_type": "code",
   "execution_count": 8,
   "metadata": {},
   "outputs": [
    {
     "name": "stdout",
     "output_type": "stream",
     "text": [
      "Runing Classifier:  1\n",
      "Runing Classifier:  2\n",
      "Runing Classifier:  3\n",
      "Done  training, total time = 169.57  seconds\n",
      "Done Classification,  total time = 0.03  seconds\n",
      "Test Data Success 7 vs 8 is 35.5%...\n"
     ]
    }
   ],
   "source": [
    "### 1,7 and 8\n",
    "digit_mask = (trainData[:,0] == 1) | (trainData[:,0] == 7) | (trainData[:,0] == 8)\n",
    "filteredData = trainData[digit_mask,:]\n",
    "train_data = filteredData[:,1:]\n",
    "train_label = filteredData[:,0]\n",
    "\n",
    "Class1 = MyClassifier(3,784)\n",
    "Class1.train(0.2,train_data,train_label,time,itertools,np,cp)\n",
    "\n",
    "# Filter test data to 1, 7, and 8\n",
    "digit_mask = (testData[:,0] == 1) | (testData[:,0] == 7) | (testData[:,0] == 8)\n",
    "test_data = testData[digit_mask,:]\n",
    "test_labels = test_data[:,0]\n",
    "test_labels = test_labels.reshape(test_labels.shape[0],1)\n",
    "results = Class1.classify(test_data,time,np)\n",
    "\n",
    "accuracy = np.sum(abs(results == test_labels))/len(test_labels) * 100\n",
    "print('Test Data Success 7 vs 8 is {}%...'.format(round(accuracy,1)))"
   ]
  },
  {
   "cell_type": "code",
   "execution_count": null,
   "metadata": {},
   "outputs": [],
   "source": []
  }
 ],
 "metadata": {
  "kernelspec": {
   "display_name": "Python 3",
   "language": "python",
   "name": "python3"
  },
  "language_info": {
   "codemirror_mode": {
    "name": "ipython",
    "version": 3
   },
   "file_extension": ".py",
   "mimetype": "text/x-python",
   "name": "python",
   "nbconvert_exporter": "python",
   "pygments_lexer": "ipython3",
   "version": "3.7.5"
  }
 },
 "nbformat": 4,
 "nbformat_minor": 4
}
