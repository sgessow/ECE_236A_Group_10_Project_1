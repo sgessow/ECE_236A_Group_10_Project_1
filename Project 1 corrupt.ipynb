{
 "cells": [
  {
   "cell_type": "code",
   "execution_count": 1,
   "metadata": {},
   "outputs": [],
   "source": [
    "import numpy as np\n",
    "import matplotlib.pyplot as plt\n",
    "import cvxpy as cp"
   ]
  },
  {
   "cell_type": "code",
   "execution_count": 2,
   "metadata": {},
   "outputs": [],
   "source": [
    "from importlib import reload"
   ]
  },
  {
   "cell_type": "code",
   "execution_count": 81,
   "metadata": {},
   "outputs": [],
   "source": [
    "# Read in the training data\n",
    "train_data = np.genfromtxt('Data/mnist_train.csv', delimiter=',')\n",
    "# The first row is the headers so we drop it\n",
    "train_data = train_data[1:]\n",
    "\n",
    "# Set up image data and labels\n",
    "x_train = train_data[:,1:]\n",
    "y_train = train_data[:,0]"
   ]
  },
  {
   "cell_type": "code",
   "execution_count": 79,
   "metadata": {},
   "outputs": [],
   "source": [
    "# Read in the testing data\n",
    "test_data = np.genfromtxt('Data/mnist_test.csv', delimiter=',')\n",
    "# The first row is the headers so we drop it\n",
    "test_data = test_data[1:]\n",
    "\n",
    "# Set up image data and labels\n",
    "x_test = test_data[:,1:]\n",
    "y_test = test_data[:,0]"
   ]
  },
  {
   "cell_type": "code",
   "execution_count": 82,
   "metadata": {},
   "outputs": [],
   "source": [
    "# Form the image data into 28x28 arrays since the data is originally 1D array\n",
    "x_train_square = x_train.reshape((60000, 28, 28))\n",
    "x_test_square = x_test.reshape((10000, 28, 28))"
   ]
  },
  {
   "cell_type": "code",
   "execution_count": 37,
   "metadata": {},
   "outputs": [],
   "source": [
    "# if you only want 1 and 7\n",
    "digit_mask = (train_data[:, 0] == 1) | (train_data[:, 0] == 7)  # Filter Digits Down\n",
    "filteredData = train_data[digit_mask, :]   \n",
    "x_train = filteredData[:, 1:]    \n",
    "y_train = filteredData[:, 0]\n",
    "\n",
    "digit_mask = (test_data[:, 0] == 1) | (test_data[:, 0] == 7)  # Filter Digits Down    \n",
    "filteredData = test_data[digit_mask, :]   \n",
    "x_test = filteredData[:, 1:]    \n",
    "y_test = filteredData[:, 0]"
   ]
  },
  {
   "cell_type": "code",
   "execution_count": 83,
   "metadata": {},
   "outputs": [
    {
     "output_type": "execute_result",
     "data": {
      "text/plain": [
       "<module 'MyClassifier_10' from '/Users/sam/GitHub/ECE_236A_Group_10/MyClassifier_10.py'>"
      ]
     },
     "metadata": {},
     "execution_count": 83
    }
   ],
   "source": [
    "import MyClassifier_10 as cl\n",
    "reload(cl)"
   ]
  },
  {
   "cell_type": "markdown",
   "metadata": {},
   "source": [
    "Training and testing accuracy for the basic classifier trained on uncorrupted data set"
   ]
  },
  {
   "cell_type": "code",
   "execution_count": 84,
   "metadata": {},
   "outputs": [],
   "source": [
    "# A function which applies noise to the training or testing data\n",
    "def apply_error(images, p):\n",
    "    corrupt_images = images.copy()\n",
    "    error = np.random.random(images.shape) >= p\n",
    "    corrupt_images = images * error\n",
    "    return corrupt_images"
   ]
  },
  {
   "cell_type": "markdown",
   "metadata": {},
   "source": [
    "We generate corrupt images for various levels of p"
   ]
  },
  {
   "cell_type": "code",
   "execution_count": 85,
   "metadata": {
    "scrolled": true
   },
   "outputs": [],
   "source": [
    "corrupt_images_4 = apply_error(x_test, 0.4)\n",
    "corrupt_images_6 = apply_error(x_test, 0.6)\n",
    "corrupt_images_8 = apply_error(x_test, 0.8)"
   ]
  },
  {
   "cell_type": "markdown",
   "metadata": {},
   "source": [
    "Now we consider training with the corrupted data"
   ]
  },
  {
   "cell_type": "code",
   "execution_count": 86,
   "metadata": {
    "tags": []
   },
   "outputs": [
    {
     "output_type": "stream",
     "name": "stdout",
     "text": [
      "Solving for digits 0 and 1\n",
      "Solve Time: 15.608246088027954\n",
      "0.001223522167173782\n",
      "Full Time: 16.568495750427246\n"
     ]
    }
   ],
   "source": [
    "corrupt_classifier = cl.MyClassifier(10, 784)\n",
    "corrupt_classifier.train(0.4, x_train, y_train)"
   ]
  },
  {
   "cell_type": "code",
   "execution_count": 74,
   "metadata": {},
   "outputs": [],
   "source": [
    "train_classes = corrupt_classifier.classify(x_train)\n",
    "test_classes = corrupt_classifier.classify(x_test)"
   ]
  },
  {
   "cell_type": "code",
   "execution_count": 75,
   "metadata": {},
   "outputs": [],
   "source": [
    "# Compute the accuracy for the classifications\n",
    "train_accuracy = sum(abs(train_classes == y_train)) / len(y_train)\n",
    "test_accuracy = sum(abs(test_classes == y_test)) / len(y_test)"
   ]
  },
  {
   "cell_type": "code",
   "execution_count": 76,
   "metadata": {},
   "outputs": [
    {
     "output_type": "execute_result",
     "data": {
      "text/plain": [
       "0.996386561082494"
      ]
     },
     "metadata": {},
     "execution_count": 76
    }
   ],
   "source": [
    "train_accuracy"
   ]
  },
  {
   "cell_type": "code",
   "execution_count": 77,
   "metadata": {},
   "outputs": [
    {
     "output_type": "execute_result",
     "data": {
      "text/plain": [
       "0.9939898289412853"
      ]
     },
     "metadata": {},
     "execution_count": 77
    }
   ],
   "source": [
    "test_accuracy"
   ]
  },
  {
   "cell_type": "code",
   "execution_count": 78,
   "metadata": {},
   "outputs": [],
   "source": [
    "corrupt_classes_4 = corrupt_classifier.classify(corrupt_images_4)\n",
    "corrupt_classes_6 = corrupt_classifier.classify(corrupt_images_6)\n",
    "corrupt_classes_8 = corrupt_classifier.classify(corrupt_images_8)"
   ]
  },
  {
   "cell_type": "code",
   "execution_count": 65,
   "metadata": {},
   "outputs": [],
   "source": [
    "corrupt_accuracy_4 = sum(abs(corrupt_classes_4 == y_test)) / len(y_test)\n",
    "corrupt_accuracy_6 = sum(abs(corrupt_classes_6 == y_test)) / len(y_test)\n",
    "corrupt_accuracy_8 = sum(abs(corrupt_classes_8 == y_test)) / len(y_test)"
   ]
  },
  {
   "cell_type": "code",
   "execution_count": 66,
   "metadata": {},
   "outputs": [
    {
     "output_type": "stream",
     "name": "stdout",
     "text": [
      "0.5247341655108645\n"
     ]
    }
   ],
   "source": [
    "print(corrupt_accuracy_4)"
   ]
  },
  {
   "cell_type": "code",
   "execution_count": 49,
   "metadata": {},
   "outputs": [
    {
     "output_type": "stream",
     "name": "stdout",
     "text": [
      "0.5247341655108645\n"
     ]
    }
   ],
   "source": [
    "print(corrupt_accuracy_6)"
   ]
  },
  {
   "cell_type": "code",
   "execution_count": 50,
   "metadata": {},
   "outputs": [
    {
     "output_type": "stream",
     "name": "stdout",
     "text": [
      "0.5247341655108645\n"
     ]
    }
   ],
   "source": [
    "print(corrupt_accuracy_8)"
   ]
  },
  {
   "cell_type": "code",
   "execution_count": null,
   "metadata": {},
   "outputs": [],
   "source": []
  }
 ],
 "metadata": {
  "kernelspec": {
   "name": "Python 3.8.6 64-bit",
   "display_name": "Python 3.8.6 64-bit",
   "metadata": {
    "interpreter": {
     "hash": "0adcc2737ebf6a4a119f135174df96668767fca1ef1112612db5ecadf2b6d608"
    }
   }
  },
  "language_info": {
   "codemirror_mode": {
    "name": "ipython",
    "version": 3
   },
   "file_extension": ".py",
   "mimetype": "text/x-python",
   "name": "python",
   "nbconvert_exporter": "python",
   "pygments_lexer": "ipython3",
   "version": "3.8.6-final"
  }
 },
 "nbformat": 4,
 "nbformat_minor": 2
}