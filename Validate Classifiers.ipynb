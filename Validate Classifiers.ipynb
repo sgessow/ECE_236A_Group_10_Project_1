{
 "cells": [
  {
   "cell_type": "code",
   "execution_count": 3,
   "metadata": {},
   "outputs": [],
   "source": [
    "import dill\n",
    "import numpy as np\n",
    "dill.load_session('TrainedClassifier.pkl')"
   ]
  },
  {
   "cell_type": "markdown",
   "metadata": {},
   "source": [
    "Test All Label Data"
   ]
  },
  {
   "cell_type": "code",
   "execution_count": 4,
   "metadata": {},
   "outputs": [
    {
     "name": "stdout",
     "output_type": "stream",
     "text": [
      "Test Data Success for all digits is 92.4%...\n"
     ]
    }
   ],
   "source": [
    "test_data = testData[:,1:] # Remove labels\n",
    "test_labels = testData[:,0] # Save labels to vector\n",
    "test_labels = test_labels.reshape(test_labels.shape[0],1) # Reshape for comparison\n",
    "results = Class10.classify(test_data)\n",
    "accuracy = np.sum(abs(results == test_labels.T))/len(test_labels) * 100\n",
    "print('Test Data Success for all digits is {}%...'.format(round(accuracy,1)))"
   ]
  },
  {
   "cell_type": "code",
   "execution_count": 5,
   "metadata": {},
   "outputs": [
    {
     "name": "stdout",
     "output_type": "stream",
     "text": [
      "Test Data Success with weighted vote for all digits is 42.6%...\n"
     ]
    }
   ],
   "source": [
    "test_data = testData[:,1:] # Remove labels\n",
    "test_labels = testData[:,0] # Save labels to vector\n",
    "test_labels = test_labels.reshape(test_labels.shape[0],1) # Reshape for comparison\n",
    "results = Class10.classify(test_data,vote_weight=True)\n",
    "accuracy = np.sum(abs(results == test_labels.T))/len(test_labels) * 100\n",
    "print('Test Data Success with weighted vote for all digits is {}%...'.format(round(accuracy,1)))"
   ]
  },
  {
   "cell_type": "code",
   "execution_count": null,
   "metadata": {},
   "outputs": [],
   "source": []
  }
 ],
 "metadata": {
  "kernelspec": {
   "display_name": "Python 3",
   "language": "python",
   "name": "python3"
  },
  "language_info": {
   "codemirror_mode": {
    "name": "ipython",
    "version": 3
   },
   "file_extension": ".py",
   "mimetype": "text/x-python",
   "name": "python",
   "nbconvert_exporter": "python",
   "pygments_lexer": "ipython3",
   "version": "3.7.5"
  }
 },
 "nbformat": 4,
 "nbformat_minor": 4
}
