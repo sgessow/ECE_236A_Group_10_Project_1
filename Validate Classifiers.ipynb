{
 "cells": [
  {
   "cell_type": "code",
   "execution_count": 2,
   "metadata": {},
   "outputs": [],
   "source": [
    "import dill\n",
    "import Validate\n",
    "from Validate import testClass10_full\n",
    "from Validate import validate_1and7"
   ]
  },
  {
   "cell_type": "code",
   "execution_count": 3,
   "metadata": {},
   "outputs": [],
   "source": [
    "dill.load_session('TrainedClassifier.pkl')"
   ]
  },
  {
   "cell_type": "markdown",
   "metadata": {},
   "source": [
    "Test All Label Data"
   ]
  },
  {
   "cell_type": "code",
   "execution_count": 4,
   "metadata": {},
   "outputs": [
    {
     "name": "stdout",
     "output_type": "stream",
     "text": [
      "Class10 Success for all digits is 92.2%...\n",
      "First 3 Incorrectly Classified as:  [[6. 5. 2.]]\n",
      "Class10 Success for 1 and 7 is 95.3%...\n",
      "First 3 Incorrectly Classified as:  [[2. 4. 9.]]\n",
      "Randomly choosing  1  # of classes and [9.0]  digits to Test\n",
      "Class10 Success random is 95.3%...\n",
      "First 3 Incorrectly Classified as:  [[2. 4. 9.]]\n"
     ]
    }
   ],
   "source": [
    "testClass10_full(Class10,show_fails = True)"
   ]
  },
  {
   "cell_type": "code",
   "execution_count": 6,
   "metadata": {},
   "outputs": [
    {
     "name": "stdout",
     "output_type": "stream",
     "text": [
      "Runing Classifier:  1 for  (1.0, 7.0)\n",
      "Done  training, total time = 7.32  seconds\n",
      "Class10 Success for 1 and 7 is 99.2%...\n",
      "First 3 Incorrectly Classified as:  [[7. 1. 1.]]\n"
     ]
    }
   ],
   "source": [
    "validate_1and7(show_fails = True)"
   ]
  },
  {
   "cell_type": "code",
   "execution_count": null,
   "metadata": {},
   "outputs": [],
   "source": []
  }
 ],
 "metadata": {
  "kernelspec": {
   "display_name": "Python 3",
   "language": "python",
   "name": "python3"
  },
  "language_info": {
   "codemirror_mode": {
    "name": "ipython",
    "version": 3
   },
   "file_extension": ".py",
   "mimetype": "text/x-python",
   "name": "python",
   "nbconvert_exporter": "python",
   "pygments_lexer": "ipython3",
   "version": "3.7.5"
  }
 },
 "nbformat": 4,
 "nbformat_minor": 4
}
